{
  "nbformat": 4,
  "nbformat_minor": 0,
  "metadata": {
    "colab": {
      "provenance": []
    },
    "kernelspec": {
      "name": "python3",
      "display_name": "Python 3"
    },
    "language_info": {
      "name": "python"
    }
  },
  "cells": [
    {
      "cell_type": "code",
      "execution_count": 90,
      "metadata": {
        "id": "5M-ev2LhLn7q"
      },
      "outputs": [],
      "source": [
        "import numpy as np\n",
        "import pandas as pd\n",
        "import matplotlib as mpl\n",
        "import seaborn as sns\n",
        "from sklearn.preprocessing import LabelEncoder\n",
        "from scipy.stats import shapiro\n",
        "import time\n",
        "import sklearn.linear_model as skl_lm\n",
        "from sklearn.metrics import mean_squared_error\n",
        "from sklearn.model_selection import train_test_split, LeaveOneOut\n",
        "from sklearn.model_selection import KFold, cross_val_score"
      ]
    },
    {
      "cell_type": "code",
      "source": [
        "my_seed = 9212\n",
        "plt = mpl.pyplot"
      ],
      "metadata": {
        "id": "mme8CD5fPYPT"
      },
      "execution_count": 91,
      "outputs": []
    },
    {
      "cell_type": "code",
      "source": [
        "fileURL = 'https://raw.githubusercontent.com/ania607/ML/refs/heads/main/data/College_for_lab.csv'\n",
        "df_raw = pd.read_csv(fileURL)\n",
        "df_raw"
      ],
      "metadata": {
        "colab": {
          "base_uri": "https://localhost:8080/",
          "height": 424
        },
        "id": "DXfytJMxMNEn",
        "outputId": "b585f4c9-68bc-499d-98c0-762117fe8d44"
      },
      "execution_count": 92,
      "outputs": [
        {
          "output_type": "execute_result",
          "data": {
            "text/plain": [
              "     Grad_Rate  Accept  Top10perc  Top25perc  F_Undergrad  P_Undergrad  PhD  \\\n",
              "0           60    1232         23         52         2885          537   70   \n",
              "1           56    1924         16         29         2683         1227   29   \n",
              "2           54    1097         22         50         1036           99   53   \n",
              "3           59     349         60         89          510           63   92   \n",
              "4           15     146         16         44          249          869   76   \n",
              "..         ...     ...        ...        ...          ...          ...  ...   \n",
              "772         40    1515          4         26         3089         2029   60   \n",
              "773         83    1805         24         47         2849         1107   73   \n",
              "774         49    1915         34         61         2793          166   67   \n",
              "775         99    2453         95         99         5217           83   96   \n",
              "776         99    1855         28         63         2988         1726   75   \n",
              "\n",
              "     Expend Private  \n",
              "0      7041     Yes  \n",
              "1     10527     Yes  \n",
              "2      8735     Yes  \n",
              "3     19016     Yes  \n",
              "4     10922     Yes  \n",
              "..      ...     ...  \n",
              "772    4469      No  \n",
              "773    9189     Yes  \n",
              "774    8323     Yes  \n",
              "775   40386     Yes  \n",
              "776    4509     Yes  \n",
              "\n",
              "[777 rows x 9 columns]"
            ],
            "text/html": [
              "\n",
              "  <div id=\"df-75d3c348-7f6c-426d-b521-17894d209cce\" class=\"colab-df-container\">\n",
              "    <div>\n",
              "<style scoped>\n",
              "    .dataframe tbody tr th:only-of-type {\n",
              "        vertical-align: middle;\n",
              "    }\n",
              "\n",
              "    .dataframe tbody tr th {\n",
              "        vertical-align: top;\n",
              "    }\n",
              "\n",
              "    .dataframe thead th {\n",
              "        text-align: right;\n",
              "    }\n",
              "</style>\n",
              "<table border=\"1\" class=\"dataframe\">\n",
              "  <thead>\n",
              "    <tr style=\"text-align: right;\">\n",
              "      <th></th>\n",
              "      <th>Grad_Rate</th>\n",
              "      <th>Accept</th>\n",
              "      <th>Top10perc</th>\n",
              "      <th>Top25perc</th>\n",
              "      <th>F_Undergrad</th>\n",
              "      <th>P_Undergrad</th>\n",
              "      <th>PhD</th>\n",
              "      <th>Expend</th>\n",
              "      <th>Private</th>\n",
              "    </tr>\n",
              "  </thead>\n",
              "  <tbody>\n",
              "    <tr>\n",
              "      <th>0</th>\n",
              "      <td>60</td>\n",
              "      <td>1232</td>\n",
              "      <td>23</td>\n",
              "      <td>52</td>\n",
              "      <td>2885</td>\n",
              "      <td>537</td>\n",
              "      <td>70</td>\n",
              "      <td>7041</td>\n",
              "      <td>Yes</td>\n",
              "    </tr>\n",
              "    <tr>\n",
              "      <th>1</th>\n",
              "      <td>56</td>\n",
              "      <td>1924</td>\n",
              "      <td>16</td>\n",
              "      <td>29</td>\n",
              "      <td>2683</td>\n",
              "      <td>1227</td>\n",
              "      <td>29</td>\n",
              "      <td>10527</td>\n",
              "      <td>Yes</td>\n",
              "    </tr>\n",
              "    <tr>\n",
              "      <th>2</th>\n",
              "      <td>54</td>\n",
              "      <td>1097</td>\n",
              "      <td>22</td>\n",
              "      <td>50</td>\n",
              "      <td>1036</td>\n",
              "      <td>99</td>\n",
              "      <td>53</td>\n",
              "      <td>8735</td>\n",
              "      <td>Yes</td>\n",
              "    </tr>\n",
              "    <tr>\n",
              "      <th>3</th>\n",
              "      <td>59</td>\n",
              "      <td>349</td>\n",
              "      <td>60</td>\n",
              "      <td>89</td>\n",
              "      <td>510</td>\n",
              "      <td>63</td>\n",
              "      <td>92</td>\n",
              "      <td>19016</td>\n",
              "      <td>Yes</td>\n",
              "    </tr>\n",
              "    <tr>\n",
              "      <th>4</th>\n",
              "      <td>15</td>\n",
              "      <td>146</td>\n",
              "      <td>16</td>\n",
              "      <td>44</td>\n",
              "      <td>249</td>\n",
              "      <td>869</td>\n",
              "      <td>76</td>\n",
              "      <td>10922</td>\n",
              "      <td>Yes</td>\n",
              "    </tr>\n",
              "    <tr>\n",
              "      <th>...</th>\n",
              "      <td>...</td>\n",
              "      <td>...</td>\n",
              "      <td>...</td>\n",
              "      <td>...</td>\n",
              "      <td>...</td>\n",
              "      <td>...</td>\n",
              "      <td>...</td>\n",
              "      <td>...</td>\n",
              "      <td>...</td>\n",
              "    </tr>\n",
              "    <tr>\n",
              "      <th>772</th>\n",
              "      <td>40</td>\n",
              "      <td>1515</td>\n",
              "      <td>4</td>\n",
              "      <td>26</td>\n",
              "      <td>3089</td>\n",
              "      <td>2029</td>\n",
              "      <td>60</td>\n",
              "      <td>4469</td>\n",
              "      <td>No</td>\n",
              "    </tr>\n",
              "    <tr>\n",
              "      <th>773</th>\n",
              "      <td>83</td>\n",
              "      <td>1805</td>\n",
              "      <td>24</td>\n",
              "      <td>47</td>\n",
              "      <td>2849</td>\n",
              "      <td>1107</td>\n",
              "      <td>73</td>\n",
              "      <td>9189</td>\n",
              "      <td>Yes</td>\n",
              "    </tr>\n",
              "    <tr>\n",
              "      <th>774</th>\n",
              "      <td>49</td>\n",
              "      <td>1915</td>\n",
              "      <td>34</td>\n",
              "      <td>61</td>\n",
              "      <td>2793</td>\n",
              "      <td>166</td>\n",
              "      <td>67</td>\n",
              "      <td>8323</td>\n",
              "      <td>Yes</td>\n",
              "    </tr>\n",
              "    <tr>\n",
              "      <th>775</th>\n",
              "      <td>99</td>\n",
              "      <td>2453</td>\n",
              "      <td>95</td>\n",
              "      <td>99</td>\n",
              "      <td>5217</td>\n",
              "      <td>83</td>\n",
              "      <td>96</td>\n",
              "      <td>40386</td>\n",
              "      <td>Yes</td>\n",
              "    </tr>\n",
              "    <tr>\n",
              "      <th>776</th>\n",
              "      <td>99</td>\n",
              "      <td>1855</td>\n",
              "      <td>28</td>\n",
              "      <td>63</td>\n",
              "      <td>2988</td>\n",
              "      <td>1726</td>\n",
              "      <td>75</td>\n",
              "      <td>4509</td>\n",
              "      <td>Yes</td>\n",
              "    </tr>\n",
              "  </tbody>\n",
              "</table>\n",
              "<p>777 rows × 9 columns</p>\n",
              "</div>\n",
              "    <div class=\"colab-df-buttons\">\n",
              "\n",
              "  <div class=\"colab-df-container\">\n",
              "    <button class=\"colab-df-convert\" onclick=\"convertToInteractive('df-75d3c348-7f6c-426d-b521-17894d209cce')\"\n",
              "            title=\"Convert this dataframe to an interactive table.\"\n",
              "            style=\"display:none;\">\n",
              "\n",
              "  <svg xmlns=\"http://www.w3.org/2000/svg\" height=\"24px\" viewBox=\"0 -960 960 960\">\n",
              "    <path d=\"M120-120v-720h720v720H120Zm60-500h600v-160H180v160Zm220 220h160v-160H400v160Zm0 220h160v-160H400v160ZM180-400h160v-160H180v160Zm440 0h160v-160H620v160ZM180-180h160v-160H180v160Zm440 0h160v-160H620v160Z\"/>\n",
              "  </svg>\n",
              "    </button>\n",
              "\n",
              "  <style>\n",
              "    .colab-df-container {\n",
              "      display:flex;\n",
              "      gap: 12px;\n",
              "    }\n",
              "\n",
              "    .colab-df-convert {\n",
              "      background-color: #E8F0FE;\n",
              "      border: none;\n",
              "      border-radius: 50%;\n",
              "      cursor: pointer;\n",
              "      display: none;\n",
              "      fill: #1967D2;\n",
              "      height: 32px;\n",
              "      padding: 0 0 0 0;\n",
              "      width: 32px;\n",
              "    }\n",
              "\n",
              "    .colab-df-convert:hover {\n",
              "      background-color: #E2EBFA;\n",
              "      box-shadow: 0px 1px 2px rgba(60, 64, 67, 0.3), 0px 1px 3px 1px rgba(60, 64, 67, 0.15);\n",
              "      fill: #174EA6;\n",
              "    }\n",
              "\n",
              "    .colab-df-buttons div {\n",
              "      margin-bottom: 4px;\n",
              "    }\n",
              "\n",
              "    [theme=dark] .colab-df-convert {\n",
              "      background-color: #3B4455;\n",
              "      fill: #D2E3FC;\n",
              "    }\n",
              "\n",
              "    [theme=dark] .colab-df-convert:hover {\n",
              "      background-color: #434B5C;\n",
              "      box-shadow: 0px 1px 3px 1px rgba(0, 0, 0, 0.15);\n",
              "      filter: drop-shadow(0px 1px 2px rgba(0, 0, 0, 0.3));\n",
              "      fill: #FFFFFF;\n",
              "    }\n",
              "  </style>\n",
              "\n",
              "    <script>\n",
              "      const buttonEl =\n",
              "        document.querySelector('#df-75d3c348-7f6c-426d-b521-17894d209cce button.colab-df-convert');\n",
              "      buttonEl.style.display =\n",
              "        google.colab.kernel.accessAllowed ? 'block' : 'none';\n",
              "\n",
              "      async function convertToInteractive(key) {\n",
              "        const element = document.querySelector('#df-75d3c348-7f6c-426d-b521-17894d209cce');\n",
              "        const dataTable =\n",
              "          await google.colab.kernel.invokeFunction('convertToInteractive',\n",
              "                                                    [key], {});\n",
              "        if (!dataTable) return;\n",
              "\n",
              "        const docLinkHtml = 'Like what you see? Visit the ' +\n",
              "          '<a target=\"_blank\" href=https://colab.research.google.com/notebooks/data_table.ipynb>data table notebook</a>'\n",
              "          + ' to learn more about interactive tables.';\n",
              "        element.innerHTML = '';\n",
              "        dataTable['output_type'] = 'display_data';\n",
              "        await google.colab.output.renderOutput(dataTable, element);\n",
              "        const docLink = document.createElement('div');\n",
              "        docLink.innerHTML = docLinkHtml;\n",
              "        element.appendChild(docLink);\n",
              "      }\n",
              "    </script>\n",
              "  </div>\n",
              "\n",
              "\n",
              "    <div id=\"df-2697b329-4e46-47fa-9e36-271b9da8c07f\">\n",
              "      <button class=\"colab-df-quickchart\" onclick=\"quickchart('df-2697b329-4e46-47fa-9e36-271b9da8c07f')\"\n",
              "                title=\"Suggest charts\"\n",
              "                style=\"display:none;\">\n",
              "\n",
              "<svg xmlns=\"http://www.w3.org/2000/svg\" height=\"24px\"viewBox=\"0 0 24 24\"\n",
              "     width=\"24px\">\n",
              "    <g>\n",
              "        <path d=\"M19 3H5c-1.1 0-2 .9-2 2v14c0 1.1.9 2 2 2h14c1.1 0 2-.9 2-2V5c0-1.1-.9-2-2-2zM9 17H7v-7h2v7zm4 0h-2V7h2v10zm4 0h-2v-4h2v4z\"/>\n",
              "    </g>\n",
              "</svg>\n",
              "      </button>\n",
              "\n",
              "<style>\n",
              "  .colab-df-quickchart {\n",
              "      --bg-color: #E8F0FE;\n",
              "      --fill-color: #1967D2;\n",
              "      --hover-bg-color: #E2EBFA;\n",
              "      --hover-fill-color: #174EA6;\n",
              "      --disabled-fill-color: #AAA;\n",
              "      --disabled-bg-color: #DDD;\n",
              "  }\n",
              "\n",
              "  [theme=dark] .colab-df-quickchart {\n",
              "      --bg-color: #3B4455;\n",
              "      --fill-color: #D2E3FC;\n",
              "      --hover-bg-color: #434B5C;\n",
              "      --hover-fill-color: #FFFFFF;\n",
              "      --disabled-bg-color: #3B4455;\n",
              "      --disabled-fill-color: #666;\n",
              "  }\n",
              "\n",
              "  .colab-df-quickchart {\n",
              "    background-color: var(--bg-color);\n",
              "    border: none;\n",
              "    border-radius: 50%;\n",
              "    cursor: pointer;\n",
              "    display: none;\n",
              "    fill: var(--fill-color);\n",
              "    height: 32px;\n",
              "    padding: 0;\n",
              "    width: 32px;\n",
              "  }\n",
              "\n",
              "  .colab-df-quickchart:hover {\n",
              "    background-color: var(--hover-bg-color);\n",
              "    box-shadow: 0 1px 2px rgba(60, 64, 67, 0.3), 0 1px 3px 1px rgba(60, 64, 67, 0.15);\n",
              "    fill: var(--button-hover-fill-color);\n",
              "  }\n",
              "\n",
              "  .colab-df-quickchart-complete:disabled,\n",
              "  .colab-df-quickchart-complete:disabled:hover {\n",
              "    background-color: var(--disabled-bg-color);\n",
              "    fill: var(--disabled-fill-color);\n",
              "    box-shadow: none;\n",
              "  }\n",
              "\n",
              "  .colab-df-spinner {\n",
              "    border: 2px solid var(--fill-color);\n",
              "    border-color: transparent;\n",
              "    border-bottom-color: var(--fill-color);\n",
              "    animation:\n",
              "      spin 1s steps(1) infinite;\n",
              "  }\n",
              "\n",
              "  @keyframes spin {\n",
              "    0% {\n",
              "      border-color: transparent;\n",
              "      border-bottom-color: var(--fill-color);\n",
              "      border-left-color: var(--fill-color);\n",
              "    }\n",
              "    20% {\n",
              "      border-color: transparent;\n",
              "      border-left-color: var(--fill-color);\n",
              "      border-top-color: var(--fill-color);\n",
              "    }\n",
              "    30% {\n",
              "      border-color: transparent;\n",
              "      border-left-color: var(--fill-color);\n",
              "      border-top-color: var(--fill-color);\n",
              "      border-right-color: var(--fill-color);\n",
              "    }\n",
              "    40% {\n",
              "      border-color: transparent;\n",
              "      border-right-color: var(--fill-color);\n",
              "      border-top-color: var(--fill-color);\n",
              "    }\n",
              "    60% {\n",
              "      border-color: transparent;\n",
              "      border-right-color: var(--fill-color);\n",
              "    }\n",
              "    80% {\n",
              "      border-color: transparent;\n",
              "      border-right-color: var(--fill-color);\n",
              "      border-bottom-color: var(--fill-color);\n",
              "    }\n",
              "    90% {\n",
              "      border-color: transparent;\n",
              "      border-bottom-color: var(--fill-color);\n",
              "    }\n",
              "  }\n",
              "</style>\n",
              "\n",
              "      <script>\n",
              "        async function quickchart(key) {\n",
              "          const quickchartButtonEl =\n",
              "            document.querySelector('#' + key + ' button');\n",
              "          quickchartButtonEl.disabled = true;  // To prevent multiple clicks.\n",
              "          quickchartButtonEl.classList.add('colab-df-spinner');\n",
              "          try {\n",
              "            const charts = await google.colab.kernel.invokeFunction(\n",
              "                'suggestCharts', [key], {});\n",
              "          } catch (error) {\n",
              "            console.error('Error during call to suggestCharts:', error);\n",
              "          }\n",
              "          quickchartButtonEl.classList.remove('colab-df-spinner');\n",
              "          quickchartButtonEl.classList.add('colab-df-quickchart-complete');\n",
              "        }\n",
              "        (() => {\n",
              "          let quickchartButtonEl =\n",
              "            document.querySelector('#df-2697b329-4e46-47fa-9e36-271b9da8c07f button');\n",
              "          quickchartButtonEl.style.display =\n",
              "            google.colab.kernel.accessAllowed ? 'block' : 'none';\n",
              "        })();\n",
              "      </script>\n",
              "    </div>\n",
              "\n",
              "  <div id=\"id_5f7f72c0-47c2-419a-84f7-e0d5d84c4740\">\n",
              "    <style>\n",
              "      .colab-df-generate {\n",
              "        background-color: #E8F0FE;\n",
              "        border: none;\n",
              "        border-radius: 50%;\n",
              "        cursor: pointer;\n",
              "        display: none;\n",
              "        fill: #1967D2;\n",
              "        height: 32px;\n",
              "        padding: 0 0 0 0;\n",
              "        width: 32px;\n",
              "      }\n",
              "\n",
              "      .colab-df-generate:hover {\n",
              "        background-color: #E2EBFA;\n",
              "        box-shadow: 0px 1px 2px rgba(60, 64, 67, 0.3), 0px 1px 3px 1px rgba(60, 64, 67, 0.15);\n",
              "        fill: #174EA6;\n",
              "      }\n",
              "\n",
              "      [theme=dark] .colab-df-generate {\n",
              "        background-color: #3B4455;\n",
              "        fill: #D2E3FC;\n",
              "      }\n",
              "\n",
              "      [theme=dark] .colab-df-generate:hover {\n",
              "        background-color: #434B5C;\n",
              "        box-shadow: 0px 1px 3px 1px rgba(0, 0, 0, 0.15);\n",
              "        filter: drop-shadow(0px 1px 2px rgba(0, 0, 0, 0.3));\n",
              "        fill: #FFFFFF;\n",
              "      }\n",
              "    </style>\n",
              "    <button class=\"colab-df-generate\" onclick=\"generateWithVariable('df_raw')\"\n",
              "            title=\"Generate code using this dataframe.\"\n",
              "            style=\"display:none;\">\n",
              "\n",
              "  <svg xmlns=\"http://www.w3.org/2000/svg\" height=\"24px\"viewBox=\"0 0 24 24\"\n",
              "       width=\"24px\">\n",
              "    <path d=\"M7,19H8.4L18.45,9,17,7.55,7,17.6ZM5,21V16.75L18.45,3.32a2,2,0,0,1,2.83,0l1.4,1.43a1.91,1.91,0,0,1,.58,1.4,1.91,1.91,0,0,1-.58,1.4L9.25,21ZM18.45,9,17,7.55Zm-12,3A5.31,5.31,0,0,0,4.9,8.1,5.31,5.31,0,0,0,1,6.5,5.31,5.31,0,0,0,4.9,4.9,5.31,5.31,0,0,0,6.5,1,5.31,5.31,0,0,0,8.1,4.9,5.31,5.31,0,0,0,12,6.5,5.46,5.46,0,0,0,6.5,12Z\"/>\n",
              "  </svg>\n",
              "    </button>\n",
              "    <script>\n",
              "      (() => {\n",
              "      const buttonEl =\n",
              "        document.querySelector('#id_5f7f72c0-47c2-419a-84f7-e0d5d84c4740 button.colab-df-generate');\n",
              "      buttonEl.style.display =\n",
              "        google.colab.kernel.accessAllowed ? 'block' : 'none';\n",
              "\n",
              "      buttonEl.onclick = () => {\n",
              "        google.colab.notebook.generateWithVariable('df_raw');\n",
              "      }\n",
              "      })();\n",
              "    </script>\n",
              "  </div>\n",
              "\n",
              "    </div>\n",
              "  </div>\n"
            ],
            "application/vnd.google.colaboratory.intrinsic+json": {
              "type": "dataframe",
              "variable_name": "df_raw",
              "summary": "{\n  \"name\": \"df_raw\",\n  \"rows\": 777,\n  \"fields\": [\n    {\n      \"column\": \"Grad_Rate\",\n      \"properties\": {\n        \"dtype\": \"number\",\n        \"std\": 17,\n        \"min\": 10,\n        \"max\": 118,\n        \"num_unique_values\": 81,\n        \"samples\": [\n          35,\n          60,\n          71\n        ],\n        \"semantic_type\": \"\",\n        \"description\": \"\"\n      }\n    },\n    {\n      \"column\": \"Accept\",\n      \"properties\": {\n        \"dtype\": \"number\",\n        \"std\": 2451,\n        \"min\": 72,\n        \"max\": 26330,\n        \"num_unique_values\": 693,\n        \"samples\": [\n          689,\n          1623,\n          927\n        ],\n        \"semantic_type\": \"\",\n        \"description\": \"\"\n      }\n    },\n    {\n      \"column\": \"Top10perc\",\n      \"properties\": {\n        \"dtype\": \"number\",\n        \"std\": 17,\n        \"min\": 1,\n        \"max\": 96,\n        \"num_unique_values\": 82,\n        \"samples\": [\n          67,\n          23,\n          50\n        ],\n        \"semantic_type\": \"\",\n        \"description\": \"\"\n      }\n    },\n    {\n      \"column\": \"Top25perc\",\n      \"properties\": {\n        \"dtype\": \"number\",\n        \"std\": 19,\n        \"min\": 9,\n        \"max\": 100,\n        \"num_unique_values\": 89,\n        \"samples\": [\n          100,\n          65,\n          85\n        ],\n        \"semantic_type\": \"\",\n        \"description\": \"\"\n      }\n    },\n    {\n      \"column\": \"F_Undergrad\",\n      \"properties\": {\n        \"dtype\": \"number\",\n        \"std\": 4850,\n        \"min\": 139,\n        \"max\": 31643,\n        \"num_unique_values\": 714,\n        \"samples\": [\n          2649,\n          2997,\n          9919\n        ],\n        \"semantic_type\": \"\",\n        \"description\": \"\"\n      }\n    },\n    {\n      \"column\": \"P_Undergrad\",\n      \"properties\": {\n        \"dtype\": \"number\",\n        \"std\": 1522,\n        \"min\": 1,\n        \"max\": 21836,\n        \"num_unique_values\": 566,\n        \"samples\": [\n          1344,\n          1552,\n          541\n        ],\n        \"semantic_type\": \"\",\n        \"description\": \"\"\n      }\n    },\n    {\n      \"column\": \"PhD\",\n      \"properties\": {\n        \"dtype\": \"number\",\n        \"std\": 16,\n        \"min\": 8,\n        \"max\": 103,\n        \"num_unique_values\": 78,\n        \"samples\": [\n          61,\n          70,\n          87\n        ],\n        \"semantic_type\": \"\",\n        \"description\": \"\"\n      }\n    },\n    {\n      \"column\": \"Expend\",\n      \"properties\": {\n        \"dtype\": \"number\",\n        \"std\": 5221,\n        \"min\": 3186,\n        \"max\": 56233,\n        \"num_unique_values\": 744,\n        \"samples\": [\n          17500,\n          13705,\n          10830\n        ],\n        \"semantic_type\": \"\",\n        \"description\": \"\"\n      }\n    },\n    {\n      \"column\": \"Private\",\n      \"properties\": {\n        \"dtype\": \"category\",\n        \"num_unique_values\": 2,\n        \"samples\": [\n          \"No\",\n          \"Yes\"\n        ],\n        \"semantic_type\": \"\",\n        \"description\": \"\"\n      }\n    }\n  ]\n}"
            }
          },
          "metadata": {},
          "execution_count": 92
        }
      ]
    },
    {
      "cell_type": "code",
      "source": [
        "df_raw.dtypes"
      ],
      "metadata": {
        "colab": {
          "base_uri": "https://localhost:8080/",
          "height": 367
        },
        "id": "rYmcQhulMft0",
        "outputId": "309daf2f-94cb-44ac-dba2-c0862bd04896"
      },
      "execution_count": 93,
      "outputs": [
        {
          "output_type": "execute_result",
          "data": {
            "text/plain": [
              "Grad_Rate       int64\n",
              "Accept          int64\n",
              "Top10perc       int64\n",
              "Top25perc       int64\n",
              "F_Undergrad     int64\n",
              "P_Undergrad     int64\n",
              "PhD             int64\n",
              "Expend          int64\n",
              "Private        object\n",
              "dtype: object"
            ],
            "text/html": [
              "<div>\n",
              "<style scoped>\n",
              "    .dataframe tbody tr th:only-of-type {\n",
              "        vertical-align: middle;\n",
              "    }\n",
              "\n",
              "    .dataframe tbody tr th {\n",
              "        vertical-align: top;\n",
              "    }\n",
              "\n",
              "    .dataframe thead th {\n",
              "        text-align: right;\n",
              "    }\n",
              "</style>\n",
              "<table border=\"1\" class=\"dataframe\">\n",
              "  <thead>\n",
              "    <tr style=\"text-align: right;\">\n",
              "      <th></th>\n",
              "      <th>0</th>\n",
              "    </tr>\n",
              "  </thead>\n",
              "  <tbody>\n",
              "    <tr>\n",
              "      <th>Grad_Rate</th>\n",
              "      <td>int64</td>\n",
              "    </tr>\n",
              "    <tr>\n",
              "      <th>Accept</th>\n",
              "      <td>int64</td>\n",
              "    </tr>\n",
              "    <tr>\n",
              "      <th>Top10perc</th>\n",
              "      <td>int64</td>\n",
              "    </tr>\n",
              "    <tr>\n",
              "      <th>Top25perc</th>\n",
              "      <td>int64</td>\n",
              "    </tr>\n",
              "    <tr>\n",
              "      <th>F_Undergrad</th>\n",
              "      <td>int64</td>\n",
              "    </tr>\n",
              "    <tr>\n",
              "      <th>P_Undergrad</th>\n",
              "      <td>int64</td>\n",
              "    </tr>\n",
              "    <tr>\n",
              "      <th>PhD</th>\n",
              "      <td>int64</td>\n",
              "    </tr>\n",
              "    <tr>\n",
              "      <th>Expend</th>\n",
              "      <td>int64</td>\n",
              "    </tr>\n",
              "    <tr>\n",
              "      <th>Private</th>\n",
              "      <td>object</td>\n",
              "    </tr>\n",
              "  </tbody>\n",
              "</table>\n",
              "</div><br><label><b>dtype:</b> object</label>"
            ]
          },
          "metadata": {},
          "execution_count": 93
        }
      ]
    },
    {
      "cell_type": "markdown",
      "source": [
        "###Проверим, есть в таблице пропуски"
      ],
      "metadata": {
        "id": "1k7y7lAEcMDd"
      }
    },
    {
      "cell_type": "code",
      "source": [
        "df_raw.isna().sum()"
      ],
      "metadata": {
        "colab": {
          "base_uri": "https://localhost:8080/",
          "height": 367
        },
        "id": "djR_kpJxNGZF",
        "outputId": "ddb05e3c-058e-4c93-c77d-d51e025a149e"
      },
      "execution_count": 94,
      "outputs": [
        {
          "output_type": "execute_result",
          "data": {
            "text/plain": [
              "Grad_Rate      0\n",
              "Accept         0\n",
              "Top10perc      0\n",
              "Top25perc      0\n",
              "F_Undergrad    0\n",
              "P_Undergrad    0\n",
              "PhD            0\n",
              "Expend         0\n",
              "Private        0\n",
              "dtype: int64"
            ],
            "text/html": [
              "<div>\n",
              "<style scoped>\n",
              "    .dataframe tbody tr th:only-of-type {\n",
              "        vertical-align: middle;\n",
              "    }\n",
              "\n",
              "    .dataframe tbody tr th {\n",
              "        vertical-align: top;\n",
              "    }\n",
              "\n",
              "    .dataframe thead th {\n",
              "        text-align: right;\n",
              "    }\n",
              "</style>\n",
              "<table border=\"1\" class=\"dataframe\">\n",
              "  <thead>\n",
              "    <tr style=\"text-align: right;\">\n",
              "      <th></th>\n",
              "      <th>0</th>\n",
              "    </tr>\n",
              "  </thead>\n",
              "  <tbody>\n",
              "    <tr>\n",
              "      <th>Grad_Rate</th>\n",
              "      <td>0</td>\n",
              "    </tr>\n",
              "    <tr>\n",
              "      <th>Accept</th>\n",
              "      <td>0</td>\n",
              "    </tr>\n",
              "    <tr>\n",
              "      <th>Top10perc</th>\n",
              "      <td>0</td>\n",
              "    </tr>\n",
              "    <tr>\n",
              "      <th>Top25perc</th>\n",
              "      <td>0</td>\n",
              "    </tr>\n",
              "    <tr>\n",
              "      <th>F_Undergrad</th>\n",
              "      <td>0</td>\n",
              "    </tr>\n",
              "    <tr>\n",
              "      <th>P_Undergrad</th>\n",
              "      <td>0</td>\n",
              "    </tr>\n",
              "    <tr>\n",
              "      <th>PhD</th>\n",
              "      <td>0</td>\n",
              "    </tr>\n",
              "    <tr>\n",
              "      <th>Expend</th>\n",
              "      <td>0</td>\n",
              "    </tr>\n",
              "    <tr>\n",
              "      <th>Private</th>\n",
              "      <td>0</td>\n",
              "    </tr>\n",
              "  </tbody>\n",
              "</table>\n",
              "</div><br><label><b>dtype:</b> int64</label>"
            ]
          },
          "metadata": {},
          "execution_count": 94
        }
      ]
    },
    {
      "cell_type": "code",
      "source": [
        "df_raw['Private'] = df_raw['Private'].apply(lambda x: 1 if x == 'Yes' else 0)\n",
        "df_raw['Private']"
      ],
      "metadata": {
        "colab": {
          "base_uri": "https://localhost:8080/",
          "height": 459
        },
        "id": "G3jkaBECNL8Q",
        "outputId": "3603e885-f098-4e84-b07f-1e72cf73b0b6"
      },
      "execution_count": 95,
      "outputs": [
        {
          "output_type": "execute_result",
          "data": {
            "text/plain": [
              "0      1\n",
              "1      1\n",
              "2      1\n",
              "3      1\n",
              "4      1\n",
              "      ..\n",
              "772    0\n",
              "773    1\n",
              "774    1\n",
              "775    1\n",
              "776    1\n",
              "Name: Private, Length: 777, dtype: int64"
            ],
            "text/html": [
              "<div>\n",
              "<style scoped>\n",
              "    .dataframe tbody tr th:only-of-type {\n",
              "        vertical-align: middle;\n",
              "    }\n",
              "\n",
              "    .dataframe tbody tr th {\n",
              "        vertical-align: top;\n",
              "    }\n",
              "\n",
              "    .dataframe thead th {\n",
              "        text-align: right;\n",
              "    }\n",
              "</style>\n",
              "<table border=\"1\" class=\"dataframe\">\n",
              "  <thead>\n",
              "    <tr style=\"text-align: right;\">\n",
              "      <th></th>\n",
              "      <th>Private</th>\n",
              "    </tr>\n",
              "  </thead>\n",
              "  <tbody>\n",
              "    <tr>\n",
              "      <th>0</th>\n",
              "      <td>1</td>\n",
              "    </tr>\n",
              "    <tr>\n",
              "      <th>1</th>\n",
              "      <td>1</td>\n",
              "    </tr>\n",
              "    <tr>\n",
              "      <th>2</th>\n",
              "      <td>1</td>\n",
              "    </tr>\n",
              "    <tr>\n",
              "      <th>3</th>\n",
              "      <td>1</td>\n",
              "    </tr>\n",
              "    <tr>\n",
              "      <th>4</th>\n",
              "      <td>1</td>\n",
              "    </tr>\n",
              "    <tr>\n",
              "      <th>...</th>\n",
              "      <td>...</td>\n",
              "    </tr>\n",
              "    <tr>\n",
              "      <th>772</th>\n",
              "      <td>0</td>\n",
              "    </tr>\n",
              "    <tr>\n",
              "      <th>773</th>\n",
              "      <td>1</td>\n",
              "    </tr>\n",
              "    <tr>\n",
              "      <th>774</th>\n",
              "      <td>1</td>\n",
              "    </tr>\n",
              "    <tr>\n",
              "      <th>775</th>\n",
              "      <td>1</td>\n",
              "    </tr>\n",
              "    <tr>\n",
              "      <th>776</th>\n",
              "      <td>1</td>\n",
              "    </tr>\n",
              "  </tbody>\n",
              "</table>\n",
              "<p>777 rows × 1 columns</p>\n",
              "</div><br><label><b>dtype:</b> int64</label>"
            ]
          },
          "metadata": {},
          "execution_count": 95
        }
      ]
    },
    {
      "cell_type": "code",
      "source": [
        "df = df_raw[['Grad_Rate', 'Expend', 'P_Undergrad', 'Private']]\n",
        "df"
      ],
      "metadata": {
        "colab": {
          "base_uri": "https://localhost:8080/",
          "height": 424
        },
        "id": "R1_5SZXSNWWT",
        "outputId": "9f9df4dd-ff57-4773-d36e-3d8b1a4363e5"
      },
      "execution_count": 96,
      "outputs": [
        {
          "output_type": "execute_result",
          "data": {
            "text/plain": [
              "     Grad_Rate  Expend  P_Undergrad  Private\n",
              "0           60    7041          537        1\n",
              "1           56   10527         1227        1\n",
              "2           54    8735           99        1\n",
              "3           59   19016           63        1\n",
              "4           15   10922          869        1\n",
              "..         ...     ...          ...      ...\n",
              "772         40    4469         2029        0\n",
              "773         83    9189         1107        1\n",
              "774         49    8323          166        1\n",
              "775         99   40386           83        1\n",
              "776         99    4509         1726        1\n",
              "\n",
              "[777 rows x 4 columns]"
            ],
            "text/html": [
              "\n",
              "  <div id=\"df-6ae66a0a-53e6-47c0-9152-7290f53efc6b\" class=\"colab-df-container\">\n",
              "    <div>\n",
              "<style scoped>\n",
              "    .dataframe tbody tr th:only-of-type {\n",
              "        vertical-align: middle;\n",
              "    }\n",
              "\n",
              "    .dataframe tbody tr th {\n",
              "        vertical-align: top;\n",
              "    }\n",
              "\n",
              "    .dataframe thead th {\n",
              "        text-align: right;\n",
              "    }\n",
              "</style>\n",
              "<table border=\"1\" class=\"dataframe\">\n",
              "  <thead>\n",
              "    <tr style=\"text-align: right;\">\n",
              "      <th></th>\n",
              "      <th>Grad_Rate</th>\n",
              "      <th>Expend</th>\n",
              "      <th>P_Undergrad</th>\n",
              "      <th>Private</th>\n",
              "    </tr>\n",
              "  </thead>\n",
              "  <tbody>\n",
              "    <tr>\n",
              "      <th>0</th>\n",
              "      <td>60</td>\n",
              "      <td>7041</td>\n",
              "      <td>537</td>\n",
              "      <td>1</td>\n",
              "    </tr>\n",
              "    <tr>\n",
              "      <th>1</th>\n",
              "      <td>56</td>\n",
              "      <td>10527</td>\n",
              "      <td>1227</td>\n",
              "      <td>1</td>\n",
              "    </tr>\n",
              "    <tr>\n",
              "      <th>2</th>\n",
              "      <td>54</td>\n",
              "      <td>8735</td>\n",
              "      <td>99</td>\n",
              "      <td>1</td>\n",
              "    </tr>\n",
              "    <tr>\n",
              "      <th>3</th>\n",
              "      <td>59</td>\n",
              "      <td>19016</td>\n",
              "      <td>63</td>\n",
              "      <td>1</td>\n",
              "    </tr>\n",
              "    <tr>\n",
              "      <th>4</th>\n",
              "      <td>15</td>\n",
              "      <td>10922</td>\n",
              "      <td>869</td>\n",
              "      <td>1</td>\n",
              "    </tr>\n",
              "    <tr>\n",
              "      <th>...</th>\n",
              "      <td>...</td>\n",
              "      <td>...</td>\n",
              "      <td>...</td>\n",
              "      <td>...</td>\n",
              "    </tr>\n",
              "    <tr>\n",
              "      <th>772</th>\n",
              "      <td>40</td>\n",
              "      <td>4469</td>\n",
              "      <td>2029</td>\n",
              "      <td>0</td>\n",
              "    </tr>\n",
              "    <tr>\n",
              "      <th>773</th>\n",
              "      <td>83</td>\n",
              "      <td>9189</td>\n",
              "      <td>1107</td>\n",
              "      <td>1</td>\n",
              "    </tr>\n",
              "    <tr>\n",
              "      <th>774</th>\n",
              "      <td>49</td>\n",
              "      <td>8323</td>\n",
              "      <td>166</td>\n",
              "      <td>1</td>\n",
              "    </tr>\n",
              "    <tr>\n",
              "      <th>775</th>\n",
              "      <td>99</td>\n",
              "      <td>40386</td>\n",
              "      <td>83</td>\n",
              "      <td>1</td>\n",
              "    </tr>\n",
              "    <tr>\n",
              "      <th>776</th>\n",
              "      <td>99</td>\n",
              "      <td>4509</td>\n",
              "      <td>1726</td>\n",
              "      <td>1</td>\n",
              "    </tr>\n",
              "  </tbody>\n",
              "</table>\n",
              "<p>777 rows × 4 columns</p>\n",
              "</div>\n",
              "    <div class=\"colab-df-buttons\">\n",
              "\n",
              "  <div class=\"colab-df-container\">\n",
              "    <button class=\"colab-df-convert\" onclick=\"convertToInteractive('df-6ae66a0a-53e6-47c0-9152-7290f53efc6b')\"\n",
              "            title=\"Convert this dataframe to an interactive table.\"\n",
              "            style=\"display:none;\">\n",
              "\n",
              "  <svg xmlns=\"http://www.w3.org/2000/svg\" height=\"24px\" viewBox=\"0 -960 960 960\">\n",
              "    <path d=\"M120-120v-720h720v720H120Zm60-500h600v-160H180v160Zm220 220h160v-160H400v160Zm0 220h160v-160H400v160ZM180-400h160v-160H180v160Zm440 0h160v-160H620v160ZM180-180h160v-160H180v160Zm440 0h160v-160H620v160Z\"/>\n",
              "  </svg>\n",
              "    </button>\n",
              "\n",
              "  <style>\n",
              "    .colab-df-container {\n",
              "      display:flex;\n",
              "      gap: 12px;\n",
              "    }\n",
              "\n",
              "    .colab-df-convert {\n",
              "      background-color: #E8F0FE;\n",
              "      border: none;\n",
              "      border-radius: 50%;\n",
              "      cursor: pointer;\n",
              "      display: none;\n",
              "      fill: #1967D2;\n",
              "      height: 32px;\n",
              "      padding: 0 0 0 0;\n",
              "      width: 32px;\n",
              "    }\n",
              "\n",
              "    .colab-df-convert:hover {\n",
              "      background-color: #E2EBFA;\n",
              "      box-shadow: 0px 1px 2px rgba(60, 64, 67, 0.3), 0px 1px 3px 1px rgba(60, 64, 67, 0.15);\n",
              "      fill: #174EA6;\n",
              "    }\n",
              "\n",
              "    .colab-df-buttons div {\n",
              "      margin-bottom: 4px;\n",
              "    }\n",
              "\n",
              "    [theme=dark] .colab-df-convert {\n",
              "      background-color: #3B4455;\n",
              "      fill: #D2E3FC;\n",
              "    }\n",
              "\n",
              "    [theme=dark] .colab-df-convert:hover {\n",
              "      background-color: #434B5C;\n",
              "      box-shadow: 0px 1px 3px 1px rgba(0, 0, 0, 0.15);\n",
              "      filter: drop-shadow(0px 1px 2px rgba(0, 0, 0, 0.3));\n",
              "      fill: #FFFFFF;\n",
              "    }\n",
              "  </style>\n",
              "\n",
              "    <script>\n",
              "      const buttonEl =\n",
              "        document.querySelector('#df-6ae66a0a-53e6-47c0-9152-7290f53efc6b button.colab-df-convert');\n",
              "      buttonEl.style.display =\n",
              "        google.colab.kernel.accessAllowed ? 'block' : 'none';\n",
              "\n",
              "      async function convertToInteractive(key) {\n",
              "        const element = document.querySelector('#df-6ae66a0a-53e6-47c0-9152-7290f53efc6b');\n",
              "        const dataTable =\n",
              "          await google.colab.kernel.invokeFunction('convertToInteractive',\n",
              "                                                    [key], {});\n",
              "        if (!dataTable) return;\n",
              "\n",
              "        const docLinkHtml = 'Like what you see? Visit the ' +\n",
              "          '<a target=\"_blank\" href=https://colab.research.google.com/notebooks/data_table.ipynb>data table notebook</a>'\n",
              "          + ' to learn more about interactive tables.';\n",
              "        element.innerHTML = '';\n",
              "        dataTable['output_type'] = 'display_data';\n",
              "        await google.colab.output.renderOutput(dataTable, element);\n",
              "        const docLink = document.createElement('div');\n",
              "        docLink.innerHTML = docLinkHtml;\n",
              "        element.appendChild(docLink);\n",
              "      }\n",
              "    </script>\n",
              "  </div>\n",
              "\n",
              "\n",
              "    <div id=\"df-84cc5269-4bbe-4a2c-b6e6-fb8b6311394d\">\n",
              "      <button class=\"colab-df-quickchart\" onclick=\"quickchart('df-84cc5269-4bbe-4a2c-b6e6-fb8b6311394d')\"\n",
              "                title=\"Suggest charts\"\n",
              "                style=\"display:none;\">\n",
              "\n",
              "<svg xmlns=\"http://www.w3.org/2000/svg\" height=\"24px\"viewBox=\"0 0 24 24\"\n",
              "     width=\"24px\">\n",
              "    <g>\n",
              "        <path d=\"M19 3H5c-1.1 0-2 .9-2 2v14c0 1.1.9 2 2 2h14c1.1 0 2-.9 2-2V5c0-1.1-.9-2-2-2zM9 17H7v-7h2v7zm4 0h-2V7h2v10zm4 0h-2v-4h2v4z\"/>\n",
              "    </g>\n",
              "</svg>\n",
              "      </button>\n",
              "\n",
              "<style>\n",
              "  .colab-df-quickchart {\n",
              "      --bg-color: #E8F0FE;\n",
              "      --fill-color: #1967D2;\n",
              "      --hover-bg-color: #E2EBFA;\n",
              "      --hover-fill-color: #174EA6;\n",
              "      --disabled-fill-color: #AAA;\n",
              "      --disabled-bg-color: #DDD;\n",
              "  }\n",
              "\n",
              "  [theme=dark] .colab-df-quickchart {\n",
              "      --bg-color: #3B4455;\n",
              "      --fill-color: #D2E3FC;\n",
              "      --hover-bg-color: #434B5C;\n",
              "      --hover-fill-color: #FFFFFF;\n",
              "      --disabled-bg-color: #3B4455;\n",
              "      --disabled-fill-color: #666;\n",
              "  }\n",
              "\n",
              "  .colab-df-quickchart {\n",
              "    background-color: var(--bg-color);\n",
              "    border: none;\n",
              "    border-radius: 50%;\n",
              "    cursor: pointer;\n",
              "    display: none;\n",
              "    fill: var(--fill-color);\n",
              "    height: 32px;\n",
              "    padding: 0;\n",
              "    width: 32px;\n",
              "  }\n",
              "\n",
              "  .colab-df-quickchart:hover {\n",
              "    background-color: var(--hover-bg-color);\n",
              "    box-shadow: 0 1px 2px rgba(60, 64, 67, 0.3), 0 1px 3px 1px rgba(60, 64, 67, 0.15);\n",
              "    fill: var(--button-hover-fill-color);\n",
              "  }\n",
              "\n",
              "  .colab-df-quickchart-complete:disabled,\n",
              "  .colab-df-quickchart-complete:disabled:hover {\n",
              "    background-color: var(--disabled-bg-color);\n",
              "    fill: var(--disabled-fill-color);\n",
              "    box-shadow: none;\n",
              "  }\n",
              "\n",
              "  .colab-df-spinner {\n",
              "    border: 2px solid var(--fill-color);\n",
              "    border-color: transparent;\n",
              "    border-bottom-color: var(--fill-color);\n",
              "    animation:\n",
              "      spin 1s steps(1) infinite;\n",
              "  }\n",
              "\n",
              "  @keyframes spin {\n",
              "    0% {\n",
              "      border-color: transparent;\n",
              "      border-bottom-color: var(--fill-color);\n",
              "      border-left-color: var(--fill-color);\n",
              "    }\n",
              "    20% {\n",
              "      border-color: transparent;\n",
              "      border-left-color: var(--fill-color);\n",
              "      border-top-color: var(--fill-color);\n",
              "    }\n",
              "    30% {\n",
              "      border-color: transparent;\n",
              "      border-left-color: var(--fill-color);\n",
              "      border-top-color: var(--fill-color);\n",
              "      border-right-color: var(--fill-color);\n",
              "    }\n",
              "    40% {\n",
              "      border-color: transparent;\n",
              "      border-right-color: var(--fill-color);\n",
              "      border-top-color: var(--fill-color);\n",
              "    }\n",
              "    60% {\n",
              "      border-color: transparent;\n",
              "      border-right-color: var(--fill-color);\n",
              "    }\n",
              "    80% {\n",
              "      border-color: transparent;\n",
              "      border-right-color: var(--fill-color);\n",
              "      border-bottom-color: var(--fill-color);\n",
              "    }\n",
              "    90% {\n",
              "      border-color: transparent;\n",
              "      border-bottom-color: var(--fill-color);\n",
              "    }\n",
              "  }\n",
              "</style>\n",
              "\n",
              "      <script>\n",
              "        async function quickchart(key) {\n",
              "          const quickchartButtonEl =\n",
              "            document.querySelector('#' + key + ' button');\n",
              "          quickchartButtonEl.disabled = true;  // To prevent multiple clicks.\n",
              "          quickchartButtonEl.classList.add('colab-df-spinner');\n",
              "          try {\n",
              "            const charts = await google.colab.kernel.invokeFunction(\n",
              "                'suggestCharts', [key], {});\n",
              "          } catch (error) {\n",
              "            console.error('Error during call to suggestCharts:', error);\n",
              "          }\n",
              "          quickchartButtonEl.classList.remove('colab-df-spinner');\n",
              "          quickchartButtonEl.classList.add('colab-df-quickchart-complete');\n",
              "        }\n",
              "        (() => {\n",
              "          let quickchartButtonEl =\n",
              "            document.querySelector('#df-84cc5269-4bbe-4a2c-b6e6-fb8b6311394d button');\n",
              "          quickchartButtonEl.style.display =\n",
              "            google.colab.kernel.accessAllowed ? 'block' : 'none';\n",
              "        })();\n",
              "      </script>\n",
              "    </div>\n",
              "\n",
              "  <div id=\"id_1a33f48d-ae2f-4bbd-9599-436b3db400a0\">\n",
              "    <style>\n",
              "      .colab-df-generate {\n",
              "        background-color: #E8F0FE;\n",
              "        border: none;\n",
              "        border-radius: 50%;\n",
              "        cursor: pointer;\n",
              "        display: none;\n",
              "        fill: #1967D2;\n",
              "        height: 32px;\n",
              "        padding: 0 0 0 0;\n",
              "        width: 32px;\n",
              "      }\n",
              "\n",
              "      .colab-df-generate:hover {\n",
              "        background-color: #E2EBFA;\n",
              "        box-shadow: 0px 1px 2px rgba(60, 64, 67, 0.3), 0px 1px 3px 1px rgba(60, 64, 67, 0.15);\n",
              "        fill: #174EA6;\n",
              "      }\n",
              "\n",
              "      [theme=dark] .colab-df-generate {\n",
              "        background-color: #3B4455;\n",
              "        fill: #D2E3FC;\n",
              "      }\n",
              "\n",
              "      [theme=dark] .colab-df-generate:hover {\n",
              "        background-color: #434B5C;\n",
              "        box-shadow: 0px 1px 3px 1px rgba(0, 0, 0, 0.15);\n",
              "        filter: drop-shadow(0px 1px 2px rgba(0, 0, 0, 0.3));\n",
              "        fill: #FFFFFF;\n",
              "      }\n",
              "    </style>\n",
              "    <button class=\"colab-df-generate\" onclick=\"generateWithVariable('df')\"\n",
              "            title=\"Generate code using this dataframe.\"\n",
              "            style=\"display:none;\">\n",
              "\n",
              "  <svg xmlns=\"http://www.w3.org/2000/svg\" height=\"24px\"viewBox=\"0 0 24 24\"\n",
              "       width=\"24px\">\n",
              "    <path d=\"M7,19H8.4L18.45,9,17,7.55,7,17.6ZM5,21V16.75L18.45,3.32a2,2,0,0,1,2.83,0l1.4,1.43a1.91,1.91,0,0,1,.58,1.4,1.91,1.91,0,0,1-.58,1.4L9.25,21ZM18.45,9,17,7.55Zm-12,3A5.31,5.31,0,0,0,4.9,8.1,5.31,5.31,0,0,0,1,6.5,5.31,5.31,0,0,0,4.9,4.9,5.31,5.31,0,0,0,6.5,1,5.31,5.31,0,0,0,8.1,4.9,5.31,5.31,0,0,0,12,6.5,5.46,5.46,0,0,0,6.5,12Z\"/>\n",
              "  </svg>\n",
              "    </button>\n",
              "    <script>\n",
              "      (() => {\n",
              "      const buttonEl =\n",
              "        document.querySelector('#id_1a33f48d-ae2f-4bbd-9599-436b3db400a0 button.colab-df-generate');\n",
              "      buttonEl.style.display =\n",
              "        google.colab.kernel.accessAllowed ? 'block' : 'none';\n",
              "\n",
              "      buttonEl.onclick = () => {\n",
              "        google.colab.notebook.generateWithVariable('df');\n",
              "      }\n",
              "      })();\n",
              "    </script>\n",
              "  </div>\n",
              "\n",
              "    </div>\n",
              "  </div>\n"
            ],
            "application/vnd.google.colaboratory.intrinsic+json": {
              "type": "dataframe",
              "variable_name": "df",
              "summary": "{\n  \"name\": \"df\",\n  \"rows\": 777,\n  \"fields\": [\n    {\n      \"column\": \"Grad_Rate\",\n      \"properties\": {\n        \"dtype\": \"number\",\n        \"std\": 17,\n        \"min\": 10,\n        \"max\": 118,\n        \"num_unique_values\": 81,\n        \"samples\": [\n          35,\n          60,\n          71\n        ],\n        \"semantic_type\": \"\",\n        \"description\": \"\"\n      }\n    },\n    {\n      \"column\": \"Expend\",\n      \"properties\": {\n        \"dtype\": \"number\",\n        \"std\": 5221,\n        \"min\": 3186,\n        \"max\": 56233,\n        \"num_unique_values\": 744,\n        \"samples\": [\n          17500,\n          13705,\n          10830\n        ],\n        \"semantic_type\": \"\",\n        \"description\": \"\"\n      }\n    },\n    {\n      \"column\": \"P_Undergrad\",\n      \"properties\": {\n        \"dtype\": \"number\",\n        \"std\": 1522,\n        \"min\": 1,\n        \"max\": 21836,\n        \"num_unique_values\": 566,\n        \"samples\": [\n          1344,\n          1552,\n          541\n        ],\n        \"semantic_type\": \"\",\n        \"description\": \"\"\n      }\n    },\n    {\n      \"column\": \"Private\",\n      \"properties\": {\n        \"dtype\": \"number\",\n        \"std\": 0,\n        \"min\": 0,\n        \"max\": 1,\n        \"num_unique_values\": 2,\n        \"samples\": [\n          0,\n          1\n        ],\n        \"semantic_type\": \"\",\n        \"description\": \"\"\n      }\n    }\n  ]\n}"
            }
          },
          "metadata": {},
          "execution_count": 96
        }
      ]
    },
    {
      "cell_type": "markdown",
      "source": [
        "###Разделяем данные на обучающую (df_train) и тестовую (df_predict) выборки в соотношении 80/20."
      ],
      "metadata": {
        "id": "70ubGUVeax5g"
      }
    },
    {
      "cell_type": "code",
      "source": [
        "df_train = df.sample(frac=0.8, random_state=my_seed)\n",
        "df_predict = df.drop(df_train.index)"
      ],
      "metadata": {
        "id": "WdEWxpkMN7p6"
      },
      "execution_count": 97,
      "outputs": []
    },
    {
      "cell_type": "code",
      "source": [
        "df_train.describe()"
      ],
      "metadata": {
        "colab": {
          "base_uri": "https://localhost:8080/",
          "height": 301
        },
        "id": "wgifMk-aQ6nN",
        "outputId": "0526b632-48e9-4a7e-8729-e98fc9795504"
      },
      "execution_count": 98,
      "outputs": [
        {
          "output_type": "execute_result",
          "data": {
            "text/plain": [
              "        Grad_Rate        Expend   P_Undergrad     Private\n",
              "count  622.000000    622.000000    622.000000  622.000000\n",
              "mean    64.911576   9682.720257    864.281350    0.733119\n",
              "std     17.296046   5414.968113   1581.024769    0.442686\n",
              "min     10.000000   3186.000000      1.000000    0.000000\n",
              "25%     53.000000   6742.500000     95.000000    0.000000\n",
              "50%     65.000000   8412.000000    363.500000    1.000000\n",
              "75%     77.000000  10807.750000    966.000000    1.000000\n",
              "max    118.000000  56233.000000  21836.000000    1.000000"
            ],
            "text/html": [
              "\n",
              "  <div id=\"df-b8d01b85-5612-4fff-868a-1b4d8ad0af23\" class=\"colab-df-container\">\n",
              "    <div>\n",
              "<style scoped>\n",
              "    .dataframe tbody tr th:only-of-type {\n",
              "        vertical-align: middle;\n",
              "    }\n",
              "\n",
              "    .dataframe tbody tr th {\n",
              "        vertical-align: top;\n",
              "    }\n",
              "\n",
              "    .dataframe thead th {\n",
              "        text-align: right;\n",
              "    }\n",
              "</style>\n",
              "<table border=\"1\" class=\"dataframe\">\n",
              "  <thead>\n",
              "    <tr style=\"text-align: right;\">\n",
              "      <th></th>\n",
              "      <th>Grad_Rate</th>\n",
              "      <th>Expend</th>\n",
              "      <th>P_Undergrad</th>\n",
              "      <th>Private</th>\n",
              "    </tr>\n",
              "  </thead>\n",
              "  <tbody>\n",
              "    <tr>\n",
              "      <th>count</th>\n",
              "      <td>622.000000</td>\n",
              "      <td>622.000000</td>\n",
              "      <td>622.000000</td>\n",
              "      <td>622.000000</td>\n",
              "    </tr>\n",
              "    <tr>\n",
              "      <th>mean</th>\n",
              "      <td>64.911576</td>\n",
              "      <td>9682.720257</td>\n",
              "      <td>864.281350</td>\n",
              "      <td>0.733119</td>\n",
              "    </tr>\n",
              "    <tr>\n",
              "      <th>std</th>\n",
              "      <td>17.296046</td>\n",
              "      <td>5414.968113</td>\n",
              "      <td>1581.024769</td>\n",
              "      <td>0.442686</td>\n",
              "    </tr>\n",
              "    <tr>\n",
              "      <th>min</th>\n",
              "      <td>10.000000</td>\n",
              "      <td>3186.000000</td>\n",
              "      <td>1.000000</td>\n",
              "      <td>0.000000</td>\n",
              "    </tr>\n",
              "    <tr>\n",
              "      <th>25%</th>\n",
              "      <td>53.000000</td>\n",
              "      <td>6742.500000</td>\n",
              "      <td>95.000000</td>\n",
              "      <td>0.000000</td>\n",
              "    </tr>\n",
              "    <tr>\n",
              "      <th>50%</th>\n",
              "      <td>65.000000</td>\n",
              "      <td>8412.000000</td>\n",
              "      <td>363.500000</td>\n",
              "      <td>1.000000</td>\n",
              "    </tr>\n",
              "    <tr>\n",
              "      <th>75%</th>\n",
              "      <td>77.000000</td>\n",
              "      <td>10807.750000</td>\n",
              "      <td>966.000000</td>\n",
              "      <td>1.000000</td>\n",
              "    </tr>\n",
              "    <tr>\n",
              "      <th>max</th>\n",
              "      <td>118.000000</td>\n",
              "      <td>56233.000000</td>\n",
              "      <td>21836.000000</td>\n",
              "      <td>1.000000</td>\n",
              "    </tr>\n",
              "  </tbody>\n",
              "</table>\n",
              "</div>\n",
              "    <div class=\"colab-df-buttons\">\n",
              "\n",
              "  <div class=\"colab-df-container\">\n",
              "    <button class=\"colab-df-convert\" onclick=\"convertToInteractive('df-b8d01b85-5612-4fff-868a-1b4d8ad0af23')\"\n",
              "            title=\"Convert this dataframe to an interactive table.\"\n",
              "            style=\"display:none;\">\n",
              "\n",
              "  <svg xmlns=\"http://www.w3.org/2000/svg\" height=\"24px\" viewBox=\"0 -960 960 960\">\n",
              "    <path d=\"M120-120v-720h720v720H120Zm60-500h600v-160H180v160Zm220 220h160v-160H400v160Zm0 220h160v-160H400v160ZM180-400h160v-160H180v160Zm440 0h160v-160H620v160ZM180-180h160v-160H180v160Zm440 0h160v-160H620v160Z\"/>\n",
              "  </svg>\n",
              "    </button>\n",
              "\n",
              "  <style>\n",
              "    .colab-df-container {\n",
              "      display:flex;\n",
              "      gap: 12px;\n",
              "    }\n",
              "\n",
              "    .colab-df-convert {\n",
              "      background-color: #E8F0FE;\n",
              "      border: none;\n",
              "      border-radius: 50%;\n",
              "      cursor: pointer;\n",
              "      display: none;\n",
              "      fill: #1967D2;\n",
              "      height: 32px;\n",
              "      padding: 0 0 0 0;\n",
              "      width: 32px;\n",
              "    }\n",
              "\n",
              "    .colab-df-convert:hover {\n",
              "      background-color: #E2EBFA;\n",
              "      box-shadow: 0px 1px 2px rgba(60, 64, 67, 0.3), 0px 1px 3px 1px rgba(60, 64, 67, 0.15);\n",
              "      fill: #174EA6;\n",
              "    }\n",
              "\n",
              "    .colab-df-buttons div {\n",
              "      margin-bottom: 4px;\n",
              "    }\n",
              "\n",
              "    [theme=dark] .colab-df-convert {\n",
              "      background-color: #3B4455;\n",
              "      fill: #D2E3FC;\n",
              "    }\n",
              "\n",
              "    [theme=dark] .colab-df-convert:hover {\n",
              "      background-color: #434B5C;\n",
              "      box-shadow: 0px 1px 3px 1px rgba(0, 0, 0, 0.15);\n",
              "      filter: drop-shadow(0px 1px 2px rgba(0, 0, 0, 0.3));\n",
              "      fill: #FFFFFF;\n",
              "    }\n",
              "  </style>\n",
              "\n",
              "    <script>\n",
              "      const buttonEl =\n",
              "        document.querySelector('#df-b8d01b85-5612-4fff-868a-1b4d8ad0af23 button.colab-df-convert');\n",
              "      buttonEl.style.display =\n",
              "        google.colab.kernel.accessAllowed ? 'block' : 'none';\n",
              "\n",
              "      async function convertToInteractive(key) {\n",
              "        const element = document.querySelector('#df-b8d01b85-5612-4fff-868a-1b4d8ad0af23');\n",
              "        const dataTable =\n",
              "          await google.colab.kernel.invokeFunction('convertToInteractive',\n",
              "                                                    [key], {});\n",
              "        if (!dataTable) return;\n",
              "\n",
              "        const docLinkHtml = 'Like what you see? Visit the ' +\n",
              "          '<a target=\"_blank\" href=https://colab.research.google.com/notebooks/data_table.ipynb>data table notebook</a>'\n",
              "          + ' to learn more about interactive tables.';\n",
              "        element.innerHTML = '';\n",
              "        dataTable['output_type'] = 'display_data';\n",
              "        await google.colab.output.renderOutput(dataTable, element);\n",
              "        const docLink = document.createElement('div');\n",
              "        docLink.innerHTML = docLinkHtml;\n",
              "        element.appendChild(docLink);\n",
              "      }\n",
              "    </script>\n",
              "  </div>\n",
              "\n",
              "\n",
              "    <div id=\"df-18337cea-b80c-4cf5-b020-eb1d3a870548\">\n",
              "      <button class=\"colab-df-quickchart\" onclick=\"quickchart('df-18337cea-b80c-4cf5-b020-eb1d3a870548')\"\n",
              "                title=\"Suggest charts\"\n",
              "                style=\"display:none;\">\n",
              "\n",
              "<svg xmlns=\"http://www.w3.org/2000/svg\" height=\"24px\"viewBox=\"0 0 24 24\"\n",
              "     width=\"24px\">\n",
              "    <g>\n",
              "        <path d=\"M19 3H5c-1.1 0-2 .9-2 2v14c0 1.1.9 2 2 2h14c1.1 0 2-.9 2-2V5c0-1.1-.9-2-2-2zM9 17H7v-7h2v7zm4 0h-2V7h2v10zm4 0h-2v-4h2v4z\"/>\n",
              "    </g>\n",
              "</svg>\n",
              "      </button>\n",
              "\n",
              "<style>\n",
              "  .colab-df-quickchart {\n",
              "      --bg-color: #E8F0FE;\n",
              "      --fill-color: #1967D2;\n",
              "      --hover-bg-color: #E2EBFA;\n",
              "      --hover-fill-color: #174EA6;\n",
              "      --disabled-fill-color: #AAA;\n",
              "      --disabled-bg-color: #DDD;\n",
              "  }\n",
              "\n",
              "  [theme=dark] .colab-df-quickchart {\n",
              "      --bg-color: #3B4455;\n",
              "      --fill-color: #D2E3FC;\n",
              "      --hover-bg-color: #434B5C;\n",
              "      --hover-fill-color: #FFFFFF;\n",
              "      --disabled-bg-color: #3B4455;\n",
              "      --disabled-fill-color: #666;\n",
              "  }\n",
              "\n",
              "  .colab-df-quickchart {\n",
              "    background-color: var(--bg-color);\n",
              "    border: none;\n",
              "    border-radius: 50%;\n",
              "    cursor: pointer;\n",
              "    display: none;\n",
              "    fill: var(--fill-color);\n",
              "    height: 32px;\n",
              "    padding: 0;\n",
              "    width: 32px;\n",
              "  }\n",
              "\n",
              "  .colab-df-quickchart:hover {\n",
              "    background-color: var(--hover-bg-color);\n",
              "    box-shadow: 0 1px 2px rgba(60, 64, 67, 0.3), 0 1px 3px 1px rgba(60, 64, 67, 0.15);\n",
              "    fill: var(--button-hover-fill-color);\n",
              "  }\n",
              "\n",
              "  .colab-df-quickchart-complete:disabled,\n",
              "  .colab-df-quickchart-complete:disabled:hover {\n",
              "    background-color: var(--disabled-bg-color);\n",
              "    fill: var(--disabled-fill-color);\n",
              "    box-shadow: none;\n",
              "  }\n",
              "\n",
              "  .colab-df-spinner {\n",
              "    border: 2px solid var(--fill-color);\n",
              "    border-color: transparent;\n",
              "    border-bottom-color: var(--fill-color);\n",
              "    animation:\n",
              "      spin 1s steps(1) infinite;\n",
              "  }\n",
              "\n",
              "  @keyframes spin {\n",
              "    0% {\n",
              "      border-color: transparent;\n",
              "      border-bottom-color: var(--fill-color);\n",
              "      border-left-color: var(--fill-color);\n",
              "    }\n",
              "    20% {\n",
              "      border-color: transparent;\n",
              "      border-left-color: var(--fill-color);\n",
              "      border-top-color: var(--fill-color);\n",
              "    }\n",
              "    30% {\n",
              "      border-color: transparent;\n",
              "      border-left-color: var(--fill-color);\n",
              "      border-top-color: var(--fill-color);\n",
              "      border-right-color: var(--fill-color);\n",
              "    }\n",
              "    40% {\n",
              "      border-color: transparent;\n",
              "      border-right-color: var(--fill-color);\n",
              "      border-top-color: var(--fill-color);\n",
              "    }\n",
              "    60% {\n",
              "      border-color: transparent;\n",
              "      border-right-color: var(--fill-color);\n",
              "    }\n",
              "    80% {\n",
              "      border-color: transparent;\n",
              "      border-right-color: var(--fill-color);\n",
              "      border-bottom-color: var(--fill-color);\n",
              "    }\n",
              "    90% {\n",
              "      border-color: transparent;\n",
              "      border-bottom-color: var(--fill-color);\n",
              "    }\n",
              "  }\n",
              "</style>\n",
              "\n",
              "      <script>\n",
              "        async function quickchart(key) {\n",
              "          const quickchartButtonEl =\n",
              "            document.querySelector('#' + key + ' button');\n",
              "          quickchartButtonEl.disabled = true;  // To prevent multiple clicks.\n",
              "          quickchartButtonEl.classList.add('colab-df-spinner');\n",
              "          try {\n",
              "            const charts = await google.colab.kernel.invokeFunction(\n",
              "                'suggestCharts', [key], {});\n",
              "          } catch (error) {\n",
              "            console.error('Error during call to suggestCharts:', error);\n",
              "          }\n",
              "          quickchartButtonEl.classList.remove('colab-df-spinner');\n",
              "          quickchartButtonEl.classList.add('colab-df-quickchart-complete');\n",
              "        }\n",
              "        (() => {\n",
              "          let quickchartButtonEl =\n",
              "            document.querySelector('#df-18337cea-b80c-4cf5-b020-eb1d3a870548 button');\n",
              "          quickchartButtonEl.style.display =\n",
              "            google.colab.kernel.accessAllowed ? 'block' : 'none';\n",
              "        })();\n",
              "      </script>\n",
              "    </div>\n",
              "\n",
              "    </div>\n",
              "  </div>\n"
            ],
            "application/vnd.google.colaboratory.intrinsic+json": {
              "type": "dataframe",
              "summary": "{\n  \"name\": \"df_train\",\n  \"rows\": 8,\n  \"fields\": [\n    {\n      \"column\": \"Grad_Rate\",\n      \"properties\": {\n        \"dtype\": \"number\",\n        \"std\": 202.3043070923466,\n        \"min\": 10.0,\n        \"max\": 622.0,\n        \"num_unique_values\": 8,\n        \"samples\": [\n          64.91157556270096,\n          65.0,\n          622.0\n        ],\n        \"semantic_type\": \"\",\n        \"description\": \"\"\n      }\n    },\n    {\n      \"column\": \"Expend\",\n      \"properties\": {\n        \"dtype\": \"number\",\n        \"std\": 17932.891819801134,\n        \"min\": 622.0,\n        \"max\": 56233.0,\n        \"num_unique_values\": 8,\n        \"samples\": [\n          9682.720257234727,\n          8412.0,\n          622.0\n        ],\n        \"semantic_type\": \"\",\n        \"description\": \"\"\n      }\n    },\n    {\n      \"column\": \"P_Undergrad\",\n      \"properties\": {\n        \"dtype\": \"number\",\n        \"std\": 7510.639708948641,\n        \"min\": 1.0,\n        \"max\": 21836.0,\n        \"num_unique_values\": 8,\n        \"samples\": [\n          864.2813504823151,\n          363.5,\n          622.0\n        ],\n        \"semantic_type\": \"\",\n        \"description\": \"\"\n      }\n    },\n    {\n      \"column\": \"Private\",\n      \"properties\": {\n        \"dtype\": \"number\",\n        \"std\": 219.69970288778003,\n        \"min\": 0.0,\n        \"max\": 622.0,\n        \"num_unique_values\": 5,\n        \"samples\": [\n          0.7331189710610932,\n          1.0,\n          0.44268567925990804\n        ],\n        \"semantic_type\": \"\",\n        \"description\": \"\"\n      }\n    }\n  ]\n}"
            }
          },
          "metadata": {},
          "execution_count": 98
        }
      ]
    },
    {
      "cell_type": "markdown",
      "source": [
        "###Построим парные графики рассеяния и графики распределения\n"
      ],
      "metadata": {
        "id": "fTa8KC1jcfEp"
      }
    },
    {
      "cell_type": "code",
      "source": [
        "sns.pairplot(df_train)\n",
        "plt.show()"
      ],
      "metadata": {
        "colab": {
          "base_uri": "https://localhost:8080/",
          "height": 1000
        },
        "id": "H3cvrdzaRkU1",
        "outputId": "7be67a96-96da-4c73-ef7f-4543b94a720d"
      },
      "execution_count": 99,
      "outputs": [
        {
          "output_type": "display_data",
          "data": {
            "text/plain": [
              "<Figure size 1000x1000 with 20 Axes>"
            ],
            "image/png": "[encoded data removed]"
          },
          "metadata": {}
        }
      ]
    },
    {
      "cell_type": "markdown",
      "source": [
        "На обоих графиках очевидно, что влияние расходов ($\\text{Expend}$) и процента студентов ($\\text{P\\_Undergrad}$) на рейтинг выпуска ($\\text{Grad_Rate}$) зависит от того, частный колледж или государственный ($\\text{Private}$).График $\\text{Expend}$: связь нелинейна (логарифмическая — рост замедляется), и наклон тренда для частных (оранжевых) колледжей отличается от государственных (синих). Это требует использования $\\mathbf{\\ln(\\text{Expend})}$ и члена взаимодействия $\\mathbf{\\ln(\\text{Expend}) \\cdot \\text{Private}}$ в модели.График $\\text{P_Undergrad}$: Различие в наклонах между частными и государственными колледжами также видно, что требует включения члена взаимодействия $\\mathbf{\\text{P_Undergrad} \\cdot \\text{Private}}$ в модель."
      ],
      "metadata": {
        "id": "W4ULiKtIdlHF"
      }
    },
    {
      "cell_type": "code",
      "source": [
        "sns.pairplot(df_train, hue='Private')\n",
        "plt.show()"
      ],
      "metadata": {
        "colab": {
          "base_uri": "https://localhost:8080/",
          "height": 758
        },
        "id": "xnMCPK-eRtFx",
        "outputId": "d9450f90-94ca-4a85-a706-48b658d23e10"
      },
      "execution_count": 100,
      "outputs": [
        {
          "output_type": "display_data",
          "data": {
            "text/plain": [
              "<Figure size 809.736x750 with 12 Axes>"
            ],
            "image/png": "[encoded data removed]"
          },
          "metadata": {}
        }
      ]
    },
    {
      "cell_type": "code",
      "source": [
        "corr_mat = df_train.corr()\n",
        "corr_mat.style.background_gradient(cmap='coolwarm')"
      ],
      "metadata": {
        "colab": {
          "base_uri": "https://localhost:8080/",
          "height": 175
        },
        "id": "lI-KNTiPSR-C",
        "outputId": "539b00fc-42de-460d-8fba-ae93a6e48db7"
      },
      "execution_count": 101,
      "outputs": [
        {
          "output_type": "execute_result",
          "data": {
            "text/plain": [
              "<pandas.io.formats.style.Styler at 0x79d66cea8860>"
            ],
            "text/html": [
              "<style type=\"text/css\">\n",
              "#T_80ecc_row0_col0, #T_80ecc_row1_col1, #T_80ecc_row2_col2, #T_80ecc_row3_col3 {\n",
              "  background-color: #b40426;\n",
              "  color: #f1f1f1;\n",
              "}\n",
              "#T_80ecc_row0_col1 {\n",
              "  background-color: #c5d6f2;\n",
              "  color: #000000;\n",
              "}\n",
              "#T_80ecc_row0_col2 {\n",
              "  background-color: #6788ee;\n",
              "  color: #f1f1f1;\n",
              "}\n",
              "#T_80ecc_row0_col3 {\n",
              "  background-color: #e2dad5;\n",
              "  color: #000000;\n",
              "}\n",
              "#T_80ecc_row1_col0 {\n",
              "  background-color: #dcdddd;\n",
              "  color: #000000;\n",
              "}\n",
              "#T_80ecc_row1_col2 {\n",
              "  background-color: #90b2fe;\n",
              "  color: #000000;\n",
              "}\n",
              "#T_80ecc_row1_col3 {\n",
              "  background-color: #d4dbe6;\n",
              "  color: #000000;\n",
              "}\n",
              "#T_80ecc_row2_col0, #T_80ecc_row2_col1, #T_80ecc_row2_col3, #T_80ecc_row3_col2 {\n",
              "  background-color: #3b4cc0;\n",
              "  color: #f1f1f1;\n",
              "}\n",
              "#T_80ecc_row3_col0 {\n",
              "  background-color: #cdd9ec;\n",
              "  color: #000000;\n",
              "}\n",
              "#T_80ecc_row3_col1 {\n",
              "  background-color: #97b8ff;\n",
              "  color: #000000;\n",
              "}\n",
              "</style>\n",
              "<table id=\"T_80ecc\" class=\"dataframe\">\n",
              "  <thead>\n",
              "    <tr>\n",
              "      <th class=\"blank level0\" >&nbsp;</th>\n",
              "      <th id=\"T_80ecc_level0_col0\" class=\"col_heading level0 col0\" >Grad_Rate</th>\n",
              "      <th id=\"T_80ecc_level0_col1\" class=\"col_heading level0 col1\" >Expend</th>\n",
              "      <th id=\"T_80ecc_level0_col2\" class=\"col_heading level0 col2\" >P_Undergrad</th>\n",
              "      <th id=\"T_80ecc_level0_col3\" class=\"col_heading level0 col3\" >Private</th>\n",
              "    </tr>\n",
              "  </thead>\n",
              "  <tbody>\n",
              "    <tr>\n",
              "      <th id=\"T_80ecc_level0_row0\" class=\"row_heading level0 row0\" >Grad_Rate</th>\n",
              "      <td id=\"T_80ecc_row0_col0\" class=\"data row0 col0\" >1.000000</td>\n",
              "      <td id=\"T_80ecc_row0_col1\" class=\"data row0 col1\" >0.380961</td>\n",
              "      <td id=\"T_80ecc_row0_col2\" class=\"data row0 col2\" >-0.232131</td>\n",
              "      <td id=\"T_80ecc_row0_col3\" class=\"data row0 col3\" >0.315537</td>\n",
              "    </tr>\n",
              "    <tr>\n",
              "      <th id=\"T_80ecc_level0_row1\" class=\"row_heading level0 row1\" >Expend</th>\n",
              "      <td id=\"T_80ecc_row1_col0\" class=\"data row1 col0\" >0.380961</td>\n",
              "      <td id=\"T_80ecc_row1_col1\" class=\"data row1 col1\" >1.000000</td>\n",
              "      <td id=\"T_80ecc_row1_col2\" class=\"data row1 col2\" >-0.062934</td>\n",
              "      <td id=\"T_80ecc_row1_col3\" class=\"data row1 col3\" >0.233817</td>\n",
              "    </tr>\n",
              "    <tr>\n",
              "      <th id=\"T_80ecc_level0_row2\" class=\"row_heading level0 row2\" >P_Undergrad</th>\n",
              "      <td id=\"T_80ecc_row2_col0\" class=\"data row2 col0\" >-0.232131</td>\n",
              "      <td id=\"T_80ecc_row2_col1\" class=\"data row2 col1\" >-0.062934</td>\n",
              "      <td id=\"T_80ecc_row2_col2\" class=\"data row2 col2\" >1.000000</td>\n",
              "      <td id=\"T_80ecc_row2_col3\" class=\"data row2 col3\" >-0.435876</td>\n",
              "    </tr>\n",
              "    <tr>\n",
              "      <th id=\"T_80ecc_level0_row3\" class=\"row_heading level0 row3\" >Private</th>\n",
              "      <td id=\"T_80ecc_row3_col0\" class=\"data row3 col0\" >0.315537</td>\n",
              "      <td id=\"T_80ecc_row3_col1\" class=\"data row3 col1\" >0.233817</td>\n",
              "      <td id=\"T_80ecc_row3_col2\" class=\"data row3 col2\" >-0.435876</td>\n",
              "      <td id=\"T_80ecc_row3_col3\" class=\"data row3 col3\" >1.000000</td>\n",
              "    </tr>\n",
              "  </tbody>\n",
              "</table>\n"
            ]
          },
          "metadata": {},
          "execution_count": 101
        }
      ]
    },
    {
      "cell_type": "code",
      "source": [
        "corr_mat = df_train[df_train['Private'] == 1].drop(['Private'], axis=1).corr()\n",
        "corr_mat.style.background_gradient(cmap='coolwarm')"
      ],
      "metadata": {
        "colab": {
          "base_uri": "https://localhost:8080/",
          "height": 144
        },
        "id": "06lcEwzD-4tR",
        "outputId": "6092927a-fb34-4fa6-b744-2ca4099bdda5"
      },
      "execution_count": 102,
      "outputs": [
        {
          "output_type": "execute_result",
          "data": {
            "text/plain": [
              "<pandas.io.formats.style.Styler at 0x79d670d68290>"
            ],
            "text/html": [
              "<style type=\"text/css\">\n",
              "#T_5db44_row0_col0, #T_5db44_row1_col1, #T_5db44_row2_col2 {\n",
              "  background-color: #b40426;\n",
              "  color: #f1f1f1;\n",
              "}\n",
              "#T_5db44_row0_col1 {\n",
              "  background-color: #bed2f6;\n",
              "  color: #000000;\n",
              "}\n",
              "#T_5db44_row0_col2 {\n",
              "  background-color: #3d50c3;\n",
              "  color: #f1f1f1;\n",
              "}\n",
              "#T_5db44_row1_col0 {\n",
              "  background-color: #bcd2f7;\n",
              "  color: #000000;\n",
              "}\n",
              "#T_5db44_row1_col2, #T_5db44_row2_col0, #T_5db44_row2_col1 {\n",
              "  background-color: #3b4cc0;\n",
              "  color: #f1f1f1;\n",
              "}\n",
              "</style>\n",
              "<table id=\"T_5db44\" class=\"dataframe\">\n",
              "  <thead>\n",
              "    <tr>\n",
              "      <th class=\"blank level0\" >&nbsp;</th>\n",
              "      <th id=\"T_5db44_level0_col0\" class=\"col_heading level0 col0\" >Grad_Rate</th>\n",
              "      <th id=\"T_5db44_level0_col1\" class=\"col_heading level0 col1\" >Expend</th>\n",
              "      <th id=\"T_5db44_level0_col2\" class=\"col_heading level0 col2\" >P_Undergrad</th>\n",
              "    </tr>\n",
              "  </thead>\n",
              "  <tbody>\n",
              "    <tr>\n",
              "      <th id=\"T_5db44_level0_row0\" class=\"row_heading level0 row0\" >Grad_Rate</th>\n",
              "      <td id=\"T_5db44_row0_col0\" class=\"data row0 col0\" >1.000000</td>\n",
              "      <td id=\"T_5db44_row0_col1\" class=\"data row0 col1\" >0.350960</td>\n",
              "      <td id=\"T_5db44_row0_col2\" class=\"data row0 col2\" >-0.060909</td>\n",
              "    </tr>\n",
              "    <tr>\n",
              "      <th id=\"T_5db44_level0_row1\" class=\"row_heading level0 row1\" >Expend</th>\n",
              "      <td id=\"T_5db44_row1_col0\" class=\"data row1 col0\" >0.350960</td>\n",
              "      <td id=\"T_5db44_row1_col1\" class=\"data row1 col1\" >1.000000</td>\n",
              "      <td id=\"T_5db44_row1_col2\" class=\"data row1 col2\" >-0.071168</td>\n",
              "    </tr>\n",
              "    <tr>\n",
              "      <th id=\"T_5db44_level0_row2\" class=\"row_heading level0 row2\" >P_Undergrad</th>\n",
              "      <td id=\"T_5db44_row2_col0\" class=\"data row2 col0\" >-0.060909</td>\n",
              "      <td id=\"T_5db44_row2_col1\" class=\"data row2 col1\" >-0.071168</td>\n",
              "      <td id=\"T_5db44_row2_col2\" class=\"data row2 col2\" >1.000000</td>\n",
              "    </tr>\n",
              "  </tbody>\n",
              "</table>\n"
            ]
          },
          "metadata": {},
          "execution_count": 102
        }
      ]
    },
    {
      "cell_type": "code",
      "source": [
        "corr_mat = df_train[df_train['Private'] == 0].drop(['Private'], axis=1).corr()\n",
        "corr_mat.style.background_gradient(cmap='coolwarm')"
      ],
      "metadata": {
        "colab": {
          "base_uri": "https://localhost:8080/",
          "height": 144
        },
        "id": "3BPwEGUy_PPd",
        "outputId": "3b227381-1cd6-4659-a3d2-23148c340ab3"
      },
      "execution_count": 103,
      "outputs": [
        {
          "output_type": "execute_result",
          "data": {
            "text/plain": [
              "<pandas.io.formats.style.Styler at 0x79d66e5c4aa0>"
            ],
            "text/html": [
              "<style type=\"text/css\">\n",
              "#T_006cb_row0_col0, #T_006cb_row1_col1, #T_006cb_row2_col2 {\n",
              "  background-color: #b40426;\n",
              "  color: #f1f1f1;\n",
              "}\n",
              "#T_006cb_row0_col1, #T_006cb_row0_col2, #T_006cb_row2_col0 {\n",
              "  background-color: #3b4cc0;\n",
              "  color: #f1f1f1;\n",
              "}\n",
              "#T_006cb_row1_col0 {\n",
              "  background-color: #c0d4f5;\n",
              "  color: #000000;\n",
              "}\n",
              "#T_006cb_row1_col2 {\n",
              "  background-color: #c7d7f0;\n",
              "  color: #000000;\n",
              "}\n",
              "#T_006cb_row2_col1 {\n",
              "  background-color: #465ecf;\n",
              "  color: #f1f1f1;\n",
              "}\n",
              "</style>\n",
              "<table id=\"T_006cb\" class=\"dataframe\">\n",
              "  <thead>\n",
              "    <tr>\n",
              "      <th class=\"blank level0\" >&nbsp;</th>\n",
              "      <th id=\"T_006cb_level0_col0\" class=\"col_heading level0 col0\" >Grad_Rate</th>\n",
              "      <th id=\"T_006cb_level0_col1\" class=\"col_heading level0 col1\" >Expend</th>\n",
              "      <th id=\"T_006cb_level0_col2\" class=\"col_heading level0 col2\" >P_Undergrad</th>\n",
              "    </tr>\n",
              "  </thead>\n",
              "  <tbody>\n",
              "    <tr>\n",
              "      <th id=\"T_006cb_level0_row0\" class=\"row_heading level0 row0\" >Grad_Rate</th>\n",
              "      <td id=\"T_006cb_row0_col0\" class=\"data row0 col0\" >1.000000</td>\n",
              "      <td id=\"T_006cb_row0_col1\" class=\"data row0 col1\" >0.276503</td>\n",
              "      <td id=\"T_006cb_row0_col2\" class=\"data row0 col2\" >-0.203411</td>\n",
              "    </tr>\n",
              "    <tr>\n",
              "      <th id=\"T_006cb_level0_row1\" class=\"row_heading level0 row1\" >Expend</th>\n",
              "      <td id=\"T_006cb_row1_col0\" class=\"data row1 col0\" >0.276503</td>\n",
              "      <td id=\"T_006cb_row1_col1\" class=\"data row1 col1\" >1.000000</td>\n",
              "      <td id=\"T_006cb_row1_col2\" class=\"data row1 col2\" >0.306369</td>\n",
              "    </tr>\n",
              "    <tr>\n",
              "      <th id=\"T_006cb_level0_row2\" class=\"row_heading level0 row2\" >P_Undergrad</th>\n",
              "      <td id=\"T_006cb_row2_col0\" class=\"data row2 col0\" >-0.203411</td>\n",
              "      <td id=\"T_006cb_row2_col1\" class=\"data row2 col1\" >0.306369</td>\n",
              "      <td id=\"T_006cb_row2_col2\" class=\"data row2 col2\" >1.000000</td>\n",
              "    </tr>\n",
              "  </tbody>\n",
              "</table>\n"
            ]
          },
          "metadata": {},
          "execution_count": 103
        }
      ]
    },
    {
      "cell_type": "code",
      "source": [
        "df_train['log_Grad_Rate'] = np.log(df_train['Grad_Rate'])"
      ],
      "metadata": {
        "id": "2suKAN7BTHdK"
      },
      "execution_count": 104,
      "outputs": []
    },
    {
      "cell_type": "code",
      "source": [
        "for col in df_train.columns:\n",
        " stat, p = shapiro(df_train[col])\n",
        " print(col, 'Statistics=%.2f, p=%.4f' % (stat, p))\n",
        " # интерпретация\n",
        " alpha = 0.05\n",
        " if p > alpha:\n",
        "  print('Распределение нормально (H0 не отклоняется)\\n')\n",
        " else:\n",
        "  print('Распределение не нормально (H0 отклоняется)\\n')\n"
      ],
      "metadata": {
        "colab": {
          "base_uri": "https://localhost:8080/"
        },
        "id": "CoDurvw5TqOv",
        "outputId": "d6f7e93c-ae9b-4790-faec-5580d4e1d1b6"
      },
      "execution_count": 105,
      "outputs": [
        {
          "output_type": "stream",
          "name": "stdout",
          "text": [
            "Grad_Rate Statistics=1.00, p=0.0707\n",
            "Распределение нормально (H0 не отклоняется)\n",
            "\n",
            "Expend Statistics=0.69, p=0.0000\n",
            "Распределение не нормально (H0 отклоняется)\n",
            "\n",
            "P_Undergrad Statistics=0.50, p=0.0000\n",
            "Распределение не нормально (H0 отклоняется)\n",
            "\n",
            "Private Statistics=0.55, p=0.0000\n",
            "Распределение не нормально (H0 отклоняется)\n",
            "\n",
            "log_Grad_Rate Statistics=0.93, p=0.0000\n",
            "Распределение не нормально (H0 отклоняется)\n",
            "\n"
          ]
        }
      ]
    },
    {
      "cell_type": "code",
      "source": [
        "df_train['log_Expend'] = np.log(df_train['Expend'])"
      ],
      "metadata": {
        "id": "wIfj6qpqJRuo"
      },
      "execution_count": 106,
      "outputs": []
    },
    {
      "cell_type": "markdown",
      "source": [
        "## Создание датафреймов для различных моделей линейной регрессии\n",
        "\n",
        "Спецификация моделей:\n",
        "\n",
        "1.  **fit_lm_1**: $ {Grad\\_Rate} = \\widehat{\\beta}_0 + \\widehat{\\beta}_1 \\cdot \\text{Expend} + \\widehat{\\beta}_2 \\cdot \\text{P_Undergrad} + \\widehat{\\beta}_3 \\cdot \\text{Private} $\n",
        "2.  **fit_lm_2**: $ {Grad\\_Rate} = \\widehat{\\beta}_0 + \\widehat{\\beta}_1 \\cdot \\ln(\\text{Expend}) + \\widehat{\\beta}_2 \\cdot \\text{P_Undergrad} + \\widehat{\\beta}_3 \\cdot \\text{Private} $\n",
        "3.  **fit_lm_3**: $ {Grad\\_Rate} = \\widehat{\\beta}_0 + \\widehat{\\beta}_1 \\cdot \\ln(\\text{Expend}) + \\widehat{\\beta}_2 \\cdot \\text{P_Undergrad} + \\widehat{\\beta}_3 \\cdot \\text{Private} + \\widehat{\\beta}_4 \\cdot \\ln(\\text{Expend}) \\cdot \\text{Private} $\n",
        "4.  **fit_lm_4**: $ {Grad\\_Rate} = \\widehat{\\beta}_0 + \\widehat{\\beta}_1 \\cdot \\ln(\\text{Expend}) + \\widehat{\\beta}_2 \\cdot \\text{P_Undergrad} + \\widehat{\\beta}_3 \\cdot \\text{Private} + \\widehat{\\beta}_4 \\cdot \\ln(\\text{Expend}) \\cdot \\text{Private} + \\widehat{\\beta}_5 \\cdot \\text{P_Undergrad} \\cdot \\text{Private} $\n",
        "5.  **fit_lm_1_log**: $ \\ln({Grad\\_Rate}) = \\widehat{\\beta}_0 + \\widehat{\\beta}_1 \\cdot \\text{Expend} + \\widehat{\\beta}_2 \\cdot \\text{P_Undergrad} + \\widehat{\\beta}_3 \\cdot \\text{Private} $\n",
        "6.  **fit_lm_2_log**: $ \\ln({Grad\\_Rate}) = \\widehat{\\beta}_0 + \\widehat{\\beta}_1 \\cdot \\ln(\\text{Expend}) + \\widehat{\\beta}_2 \\cdot \\text{P_Undergrad} + \\widehat{\\beta}_3 \\cdot \\text{Private} $\n",
        "7.  **fit_lm_3_log**: $ \\ln({Grad\\_Rate}) = \\widehat{\\beta}_0 + \\widehat{\\beta}_1 \\cdot \\ln(\\text{Expend}) + \\widehat{\\beta}_2 \\cdot \\text{P_Undergrad} + \\widehat{\\beta}_3 \\cdot \\text{Private} + \\widehat{\\beta}_4 \\cdot \\ln(\\text{Expend}) \\cdot \\text{Private} $\n",
        "8.  **fit_lm_4_log**: $ \\ln({Grad\\_Rate}) = \\widehat{\\beta}_0 + \\widehat{\\beta}_1 \\cdot \\ln(\\text{Expend}) + \\widehat{\\beta}_2 \\cdot \\text{P_Undergrad} + \\widehat{\\beta}_3 \\cdot \\text{Private} + \\widehat{\\beta}_4 \\cdot \\ln(\\text{Expend}) \\cdot \\text{Private} + \\widehat{\\beta}_5 \\cdot \\text{P_Undergrad} \\cdot \\text{Private} $"
      ],
      "metadata": {
        "id": "mEc7cWGyfuJq"
      }
    },
    {
      "cell_type": "markdown",
      "source": [
        "## Обучение и интерпретация:\n",
        "Создаём матрицы значений объясняющих переменных ($\\mathbf{X}$) и вектора значений зависимой ($\\mathbf{y}$) для всех моделей."
      ],
      "metadata": {
        "id": "y0c_hDYBgQNU"
      }
    },
    {
      "cell_type": "code",
      "source": [
        "df_LM1 = df_train[['Grad_Rate', 'Expend', 'P_Undergrad', 'Private']].copy()\n",
        "\n",
        "\n",
        "# LM_2: Grad_Rate ~ log_Expend + P_Undergrad + Private\n",
        "df_LM2 = df_train[['Grad_Rate', 'log_Expend', 'P_Undergrad', 'Private']].copy()\n",
        "\n",
        "\n",
        "# LM_3: Grad_Rate ~ log_Expend + P_Undergrad + Private + log_Expend * Private\n",
        "df_LM3 = df_train[['Grad_Rate', 'log_Expend', 'P_Undergrad', 'Private']].copy()\n",
        "df_LM3.loc[:, 'log_Expend_Private'] = df_LM3.loc[:, 'log_Expend'] * df_LM3.loc[:, 'Private']\n",
        "\n",
        "\n",
        "# LM_4: Grad_Rate ~ LM3 + P_Undergrad * Private\n",
        "df_LM4 = df_LM3.copy()\n",
        "df_LM4.loc[:, 'P_Undergrad_Private'] = df_LM4.loc[:, 'P_Undergrad'] * df_LM4.loc[:, 'Private']"
      ],
      "metadata": {
        "id": "OgADVCfQ_gFR"
      },
      "execution_count": 107,
      "outputs": []
    },
    {
      "cell_type": "code",
      "source": [
        "lm = skl_lm.LinearRegression()\n",
        "\n",
        "\n",
        "X = df_LM1.drop(['Grad_Rate'], axis=1)\n",
        "y = df_LM1['Grad_Rate'].values.reshape(-1, 1)\n",
        "fit_lm_0 = lm.fit(X, y)\n",
        "\n",
        "print('модель fit_lm_1:\\n',\n",
        " 'константа ', np.around(fit_lm_0.intercept_, 3),\n",
        " '\\n объясняющие ', list(X.columns.values),\n",
        " '\\n коэффициенты ', np.around(fit_lm_0.coef_, 3)\n",
        ")"
      ],
      "metadata": {
        "colab": {
          "base_uri": "https://localhost:8080/"
        },
        "id": "ZunTvR36Jej4",
        "outputId": "ef3df7a4-c8ce-405c-aea8-d15feef1514b"
      },
      "execution_count": 108,
      "outputs": [
        {
          "output_type": "stream",
          "name": "stdout",
          "text": [
            "модель fit_lm_1:\n",
            " константа  [50.778] \n",
            " объясняющие  ['Expend', 'P_Undergrad', 'Private'] \n",
            " коэффициенты  [[ 1.00e-03 -1.00e-03  7.05e+00]]\n"
          ]
        }
      ]
    },
    {
      "cell_type": "code",
      "source": [
        "y_pred = fit_lm_0.predict(X)\n",
        "MSE = sum((y - y_pred.reshape(-1, 1))**2) / len(y)\n",
        "MSE"
      ],
      "metadata": {
        "colab": {
          "base_uri": "https://localhost:8080/"
        },
        "id": "szeGbi6XJttu",
        "outputId": "57182602-70ed-48ba-ddfa-23750623f387"
      },
      "execution_count": 109,
      "outputs": [
        {
          "output_type": "execute_result",
          "data": {
            "text/plain": [
              "array([234.87149141])"
            ]
          },
          "metadata": {},
          "execution_count": 109
        }
      ]
    },
    {
      "cell_type": "code",
      "source": [
        "lm = skl_lm.LinearRegression()\n",
        "\n",
        "\n",
        "X = df_LM1.drop(['Grad_Rate'], axis=1)\n",
        "y = np.log(df_LM1['Grad_Rate']).values.reshape(-1, 1)\n",
        "fit_lm_0_log = lm.fit(X, y)\n",
        "\n",
        "print('модель fit_lm_1_log:\\n',\n",
        " 'константа ', np.around(fit_lm_0_log.intercept_, 3),\n",
        " '\\n объясняющие ', list(X.columns.values),\n",
        " '\\n коэффициенты ', np.around(fit_lm_0_log.coef_, 3)\n",
        " )"
      ],
      "metadata": {
        "colab": {
          "base_uri": "https://localhost:8080/"
        },
        "id": "L9h2Fxj6J74v",
        "outputId": "a4f75ac4-2064-4076-a332-9235007410af"
      },
      "execution_count": 110,
      "outputs": [
        {
          "output_type": "stream",
          "name": "stdout",
          "text": [
            "модель fit_lm_1_log:\n",
            " константа  [3.912] \n",
            " объясняющие  ['Expend', 'P_Undergrad', 'Private'] \n",
            " коэффициенты  [[ 0.    -0.     0.115]]\n"
          ]
        }
      ]
    },
    {
      "cell_type": "code",
      "source": [
        "np.round(np.exp(fit_lm_0_log.intercept_), 1)"
      ],
      "metadata": {
        "colab": {
          "base_uri": "https://localhost:8080/"
        },
        "id": "UrEEORhxKV3i",
        "outputId": "bd1d8150-2bdf-4d0c-cf89-509d3862b7f9"
      },
      "execution_count": 111,
      "outputs": [
        {
          "output_type": "execute_result",
          "data": {
            "text/plain": [
              "array([50.])"
            ]
          },
          "metadata": {},
          "execution_count": 111
        }
      ]
    },
    {
      "cell_type": "code",
      "source": [
        "np.round((np.exp(fit_lm_0_log.coef_) - 1) * 100, 1)"
      ],
      "metadata": {
        "colab": {
          "base_uri": "https://localhost:8080/"
        },
        "id": "LUgD_-OlKc7y",
        "outputId": "16a9ebd1-0467-4153-d93a-5aae2b64a5cb"
      },
      "execution_count": 112,
      "outputs": [
        {
          "output_type": "execute_result",
          "data": {
            "text/plain": [
              "array([[ 0. , -0. , 12.2]])"
            ]
          },
          "metadata": {},
          "execution_count": 112
        }
      ]
    },
    {
      "cell_type": "code",
      "source": [
        "y_pred = fit_lm_0_log.predict(X)\n",
        "MSE_log = sum((np.exp(y) - np.exp(y_pred).reshape(-1, 1))**2) / len(y)\n",
        "MSE_log"
      ],
      "metadata": {
        "colab": {
          "base_uri": "https://localhost:8080/"
        },
        "id": "q7qgy2MlKh0h",
        "outputId": "45162486-403c-4c56-b128-c9215096e62c"
      },
      "execution_count": 113,
      "outputs": [
        {
          "output_type": "execute_result",
          "data": {
            "text/plain": [
              "array([246.21326576])"
            ]
          },
          "metadata": {},
          "execution_count": 113
        }
      ]
    },
    {
      "cell_type": "code",
      "source": [
        "loo = LeaveOneOut()\n",
        "scores = list()\n",
        "tic = time.perf_counter()\n",
        "for df in [df_LM1, df_LM2, df_LM3, df_LM4] :\n",
        " loo.get_n_splits(df)\n",
        " X = df.drop(['Grad_Rate'], axis=1)\n",
        " y = df['Grad_Rate']\n",
        " score = cross_val_score(lm, X, y, cv=loo,\n",
        " scoring='neg_mean_squared_error').mean()\n",
        " scores.append(score)\n",
        "\n",
        "toc = time.perf_counter()\n",
        "print(f\"Расчёты методом LOOCV заняли {toc - tic:0.2f} секунд\")"
      ],
      "metadata": {
        "colab": {
          "base_uri": "https://localhost:8080/"
        },
        "id": "vjvG9pbdKjoW",
        "outputId": "3c225663-2cda-4d27-9c82-2d02c9d75541"
      },
      "execution_count": 114,
      "outputs": [
        {
          "output_type": "stream",
          "name": "stdout",
          "text": [
            "Расчёты методом LOOCV заняли 9.90 секунд\n"
          ]
        }
      ]
    },
    {
      "cell_type": "code",
      "source": [
        "scores_log = list()\n",
        "tic = time.perf_counter()\n",
        "for df in [df_LM1, df_LM2, df_LM3, df_LM4]:\n",
        " loo.get_n_splits(df)\n",
        " X = df.drop(['Grad_Rate'], axis=1)\n",
        " y = np.log(df['Grad_Rate'])\n",
        " score = cross_val_score(lm, X, y, cv=loo, n_jobs=1,\n",
        " scoring='neg_mean_squared_error').mean()\n",
        " scores_log.append(score)\n",
        "\n",
        "toc = time.perf_counter()\n",
        "print(f\"Расчёты методом LOOCV заняли {toc - tic:0.2f} секунд\")"
      ],
      "metadata": {
        "colab": {
          "base_uri": "https://localhost:8080/"
        },
        "id": "iJ3TQIQ5K6jD",
        "outputId": "b89b5c41-0119-4392-a6c8-683463403a48"
      },
      "execution_count": 115,
      "outputs": [
        {
          "output_type": "stream",
          "name": "stdout",
          "text": [
            "Расчёты методом LOOCV заняли 9.77 секунд\n"
          ]
        }
      ]
    },
    {
      "cell_type": "code",
      "source": [
        "[np.around(-x, 2) for x in scores]"
      ],
      "metadata": {
        "colab": {
          "base_uri": "https://localhost:8080/"
        },
        "id": "aRB2HsS8LFib",
        "outputId": "41c11234-2d51-4172-81c4-f3e16e9fe7a0"
      },
      "execution_count": 116,
      "outputs": [
        {
          "output_type": "execute_result",
          "data": {
            "text/plain": [
              "[np.float64(238.29),\n",
              " np.float64(232.13),\n",
              " np.float64(232.96),\n",
              " np.float64(233.93)]"
            ]
          },
          "metadata": {},
          "execution_count": 116
        }
      ]
    },
    {
      "cell_type": "code",
      "source": [
        "[np.around(-x, 3) for x in scores_log]"
      ],
      "metadata": {
        "id": "rSPgt6T5LI7b",
        "outputId": "23eaaafb-72be-4a6a-bc3d-3c19b671146b",
        "colab": {
          "base_uri": "https://localhost:8080/"
        }
      },
      "execution_count": 117,
      "outputs": [
        {
          "output_type": "execute_result",
          "data": {
            "text/plain": [
              "[np.float64(0.078), np.float64(0.076), np.float64(0.076), np.float64(0.076)]"
            ]
          },
          "metadata": {},
          "execution_count": 117
        }
      ]
    },
    {
      "cell_type": "code",
      "source": [
        "fits = ['fit_lm_1', 'fit_lm_2', 'fit_lm_3', 'fit_lm_4']\n",
        "print('Наименьшая ошибка на тестовой с LOOCV у модели',\n",
        " fits[scores.index(max(scores))],\n",
        " ':\\nMSE_loocv =', np.around(-max(scores), 1)\n",
        ")"
      ],
      "metadata": {
        "id": "slsBEA7RLL5r",
        "colab": {
          "base_uri": "https://localhost:8080/"
        },
        "outputId": "e30f076d-5669-4250-bc5a-8bb42006340e"
      },
      "execution_count": 80,
      "outputs": [
        {
          "output_type": "stream",
          "name": "stdout",
          "text": [
            "Наименьшая ошибка на тестовой с LOOCV у модели fit_lm_2 :\n",
            "MSE_loocv = 232.1\n"
          ]
        }
      ]
    },
    {
      "cell_type": "code",
      "source": [
        "fits = ['fit_lm_1_log', 'fit_lm_2_log','fit_lm_3_log', 'fit_lm_4_log']\n",
        "print('Наименьшая ошибка на тестовой с LOOCV у модели',\n",
        " fits[scores_log.index(max(scores_log))],\n",
        " ':\\nMSE_loocv =', np.around(-max(scores_log), 3))\n"
      ],
      "metadata": {
        "colab": {
          "base_uri": "https://localhost:8080/"
        },
        "id": "-QmUXXDSZEPe",
        "outputId": "79453266-6f7a-4f4a-9530-ad21f6e76111"
      },
      "execution_count": 81,
      "outputs": [
        {
          "output_type": "stream",
          "name": "stdout",
          "text": [
            "Наименьшая ошибка на тестовой с LOOCV у модели fit_lm_2_log :\n",
            "MSE_loocv = 0.076\n"
          ]
        }
      ]
    },
    {
      "cell_type": "code",
      "source": [
        "df_predict['log_Expend'] = np.log(df_predict['Expend'])"
      ],
      "metadata": {
        "id": "en4QfblvhX7O"
      },
      "execution_count": 83,
      "outputs": []
    },
    {
      "cell_type": "code",
      "source": [
        "X = df_LM2.drop(['Grad_Rate'], axis=1)\n",
        "y = df_LM2['Grad_Rate'].values.reshape(-1, 1)\n",
        "fit_lm_2 = lm.fit(X, y)\n",
        "\n",
        "y = df_predict[['Grad_Rate']].values.reshape(-1, 1)\n",
        "X = df_predict[['log_Expend', 'P_Undergrad', 'Private']].copy()\n",
        "\n",
        "y_pred = fit_lm_2.predict(X)\n",
        "\n",
        "MSE = sum((y - y_pred.reshape(-1, 1))**2) / len(y)\n",
        "print('MSE модели fit_lm_2 на отложенных наблюдениях = %.2f' % MSE)"
      ],
      "metadata": {
        "colab": {
          "base_uri": "https://localhost:8080/"
        },
        "id": "kCIW43Elgh8L",
        "outputId": "bb7708b2-1bbb-4b3f-d380-34a1cf18deb0"
      },
      "execution_count": 85,
      "outputs": [
        {
          "output_type": "stream",
          "name": "stdout",
          "text": [
            "MSE модели fit_lm_2 на отложенных наблюдениях = 200.87\n"
          ]
        },
        {
          "output_type": "stream",
          "name": "stderr",
          "text": [
            "/tmp/ipython-input-761455655.py:11: DeprecationWarning: Conversion of an array with ndim > 0 to a scalar is deprecated, and will error in future. Ensure you extract a single element from your array before performing this operation. (Deprecated NumPy 1.25.)\n",
            "  print('MSE модели fit_lm_2 на отложенных наблюдениях = %.2f' % MSE)\n"
          ]
        }
      ]
    },
    {
      "cell_type": "code",
      "source": [
        "print('Ошибка модели на отложенных наблюдениях составила ',\n",
        " np.around(np.sqrt(MSE) / np.mean(y) * 100, 1)[0], '% от cреднего значения Y',\n",
        " sep='')"
      ],
      "metadata": {
        "colab": {
          "base_uri": "https://localhost:8080/"
        },
        "id": "qNLFrvMShkQY",
        "outputId": "ce3822e0-2ec6-4a06-ef31-28e118d4242a"
      },
      "execution_count": 88,
      "outputs": [
        {
          "output_type": "stream",
          "name": "stdout",
          "text": [
            "Ошибка модели на отложенных наблюдениях составила 20.9% от cреднего значения Y\n"
          ]
        }
      ]
    },
    {
      "cell_type": "code",
      "source": [
        "fit_lm_2.coef_"
      ],
      "metadata": {
        "colab": {
          "base_uri": "https://localhost:8080/"
        },
        "id": "yh2AIu6ah6u4",
        "outputId": "219cb87b-53a6-43ed-d292-77aa13cc985c"
      },
      "execution_count": 118,
      "outputs": [
        {
          "output_type": "execute_result",
          "data": {
            "text/plain": [
              "array([[ 1.53511663e+01, -1.54790799e-03,  5.59218816e+00]])"
            ]
          },
          "metadata": {},
          "execution_count": 118
        }
      ]
    },
    {
      "cell_type": "code",
      "source": [],
      "metadata": {
        "id": "ZRgmsrOGmCX4"
      },
      "execution_count": null,
      "outputs": []
    }
  ]
}